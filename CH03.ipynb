{
  "cells": [
    {
      "cell_type": "markdown",
      "metadata": {
        "id": "view-in-github",
        "colab_type": "text"
      },
      "source": [
        "<a href=\"https://colab.research.google.com/github/Anson1013/HW/blob/main/CH03.ipynb\" target=\"_parent\"><img src=\"https://colab.research.google.com/assets/colab-badge.svg\" alt=\"Open In Colab\"/></a>"
      ]
    },
    {
      "cell_type": "markdown",
      "metadata": {
        "id": "L1iYoDx0T9HS"
      },
      "source": [
        "## TensorFlow 的第一步"
      ]
    },
    {
      "cell_type": "markdown",
      "metadata": {
        "id": "o_dxk65WT9HS"
      },
      "source": [
        "#### 常數張量和變量"
      ]
    },
    {
      "cell_type": "markdown",
      "metadata": {
        "id": "nOYD-7aJT9HS"
      },
      "source": [
        "**全一或全零張量**"
      ]
    },
    {
      "cell_type": "code",
      "execution_count": 1,
      "metadata": {
        "colab": {
          "base_uri": "https://localhost:8080/"
        },
        "id": "j4-0U6wUT9HT",
        "outputId": "6c3015bc-28c9-4162-f906-b12b5ef9e991"
      },
      "outputs": [
        {
          "output_type": "stream",
          "name": "stdout",
          "text": [
            "tf.Tensor(\n",
            "[[1.]\n",
            " [1.]], shape=(2, 1), dtype=float32)\n"
          ]
        }
      ],
      "source": [
        "import tensorflow as tf\n",
        "x = tf.ones(shape=(2, 1))\n",
        "print(x)"
      ]
    },
    {
      "cell_type": "code",
      "execution_count": 2,
      "metadata": {
        "colab": {
          "base_uri": "https://localhost:8080/"
        },
        "id": "gZO1W6cTT9HT",
        "outputId": "26cbdcc4-e7fd-49f1-eff2-c6ee96dd201d"
      },
      "outputs": [
        {
          "output_type": "stream",
          "name": "stdout",
          "text": [
            "tf.Tensor(\n",
            "[[0.]\n",
            " [0.]], shape=(2, 1), dtype=float32)\n"
          ]
        }
      ],
      "source": [
        "x = tf.zeros(shape=(2, 1))\n",
        "print(x)"
      ]
    },
    {
      "cell_type": "markdown",
      "metadata": {
        "id": "IF_8Oy9XT9HU"
      },
      "source": [
        "**隨機張量**"
      ]
    },
    {
      "cell_type": "code",
      "execution_count": 3,
      "metadata": {
        "colab": {
          "base_uri": "https://localhost:8080/"
        },
        "id": "bF1Z8-KiT9HU",
        "outputId": "7c4d3676-fdaf-4e9f-9b50-fb953ca1641d"
      },
      "outputs": [
        {
          "output_type": "stream",
          "name": "stdout",
          "text": [
            "tf.Tensor(\n",
            "[[ 0.56136733]\n",
            " [ 0.32986325]\n",
            " [-1.1353432 ]], shape=(3, 1), dtype=float32)\n"
          ]
        }
      ],
      "source": [
        "x = tf.random.normal(shape=(3, 1), mean=0., stddev=1.)\n",
        "print(x)"
      ]
    },
    {
      "cell_type": "code",
      "execution_count": 4,
      "metadata": {
        "colab": {
          "base_uri": "https://localhost:8080/"
        },
        "id": "hqudRL9CT9HU",
        "outputId": "36eb30d5-e75b-4698-8a3f-bb453df35ef4"
      },
      "outputs": [
        {
          "output_type": "stream",
          "name": "stdout",
          "text": [
            "tf.Tensor(\n",
            "[[0.2078613 ]\n",
            " [0.77824163]\n",
            " [0.64400184]], shape=(3, 1), dtype=float32)\n"
          ]
        }
      ],
      "source": [
        "x = tf.random.uniform(shape=(3, 1), minval=0., maxval=1.)\n",
        "print(x)"
      ]
    },
    {
      "cell_type": "markdown",
      "metadata": {
        "id": "1RmgSExiT9HU"
      },
      "source": [
        "**NumPy 數組是可分配的**"
      ]
    },
    {
      "cell_type": "code",
      "execution_count": 5,
      "metadata": {
        "id": "upSZso1cT9HU"
      },
      "outputs": [],
      "source": [
        "import numpy as np\n",
        "x = np.ones(shape=(2, 2))\n",
        "x[0, 0] = 0."
      ]
    },
    {
      "cell_type": "markdown",
      "metadata": {
        "id": "4dABoO58T9HV"
      },
      "source": [
        "**創建 TensorFlow 變量**"
      ]
    },
    {
      "cell_type": "code",
      "execution_count": 6,
      "metadata": {
        "colab": {
          "base_uri": "https://localhost:8080/"
        },
        "id": "VeRfM-xlT9HV",
        "outputId": "1cc5e85d-56b8-4ebb-9159-a2709e355b00"
      },
      "outputs": [
        {
          "output_type": "stream",
          "name": "stdout",
          "text": [
            "<tf.Variable 'Variable:0' shape=(3, 1) dtype=float32, numpy=\n",
            "array([[-0.894148  ],\n",
            "       [ 0.14885515],\n",
            "       [-0.07686603]], dtype=float32)>\n"
          ]
        }
      ],
      "source": [
        "v = tf.Variable(initial_value=tf.random.normal(shape=(3, 1)))\n",
        "print(v)"
      ]
    },
    {
      "cell_type": "markdown",
      "metadata": {
        "id": "8aHJw9hGT9HV"
      },
      "source": [
        "**為 TensorFlow 變量賦值**"
      ]
    },
    {
      "cell_type": "code",
      "execution_count": 7,
      "metadata": {
        "colab": {
          "base_uri": "https://localhost:8080/"
        },
        "id": "eSEeEdobT9HV",
        "outputId": "08f223ef-48ad-4192-af37-977b42ff375d"
      },
      "outputs": [
        {
          "output_type": "execute_result",
          "data": {
            "text/plain": [
              "<tf.Variable 'UnreadVariable' shape=(3, 1) dtype=float32, numpy=\n",
              "array([[1.],\n",
              "       [1.],\n",
              "       [1.]], dtype=float32)>"
            ]
          },
          "metadata": {},
          "execution_count": 7
        }
      ],
      "source": [
        "v.assign(tf.ones((3, 1)))"
      ]
    },
    {
      "cell_type": "markdown",
      "metadata": {
        "id": "hz1Ed8k6T9HV"
      },
      "source": [
        "**為 TensorFlow 變量的子集賦值**"
      ]
    },
    {
      "cell_type": "code",
      "execution_count": 8,
      "metadata": {
        "colab": {
          "base_uri": "https://localhost:8080/"
        },
        "id": "tgOFnMY8T9HV",
        "outputId": "3a24f20d-bd7f-4509-cd56-5495d6f7c262"
      },
      "outputs": [
        {
          "output_type": "execute_result",
          "data": {
            "text/plain": [
              "<tf.Variable 'UnreadVariable' shape=(3, 1) dtype=float32, numpy=\n",
              "array([[3.],\n",
              "       [1.],\n",
              "       [1.]], dtype=float32)>"
            ]
          },
          "metadata": {},
          "execution_count": 8
        }
      ],
      "source": [
        "v[0, 0].assign(3.)"
      ]
    },
    {
      "cell_type": "markdown",
      "metadata": {
        "id": "ZhvE0DbBT9HW"
      },
      "source": [
        "**Using `assign_add`**"
      ]
    },
    {
      "cell_type": "code",
      "execution_count": 9,
      "metadata": {
        "colab": {
          "base_uri": "https://localhost:8080/"
        },
        "id": "VBTDWdIST9HW",
        "outputId": "1cef5f34-cede-4da7-c1b6-274c46d0891a"
      },
      "outputs": [
        {
          "output_type": "execute_result",
          "data": {
            "text/plain": [
              "<tf.Variable 'UnreadVariable' shape=(3, 1) dtype=float32, numpy=\n",
              "array([[4.],\n",
              "       [2.],\n",
              "       [2.]], dtype=float32)>"
            ]
          },
          "metadata": {},
          "execution_count": 9
        }
      ],
      "source": [
        "v.assign_add(tf.ones((3, 1)))"
      ]
    },
    {
      "cell_type": "markdown",
      "metadata": {
        "id": "-YFwwOmJT9HW"
      },
      "source": [
        "#### 張量運算：在 TensorFlow 中做數學運算\n",
        "\n"
      ]
    },
    {
      "cell_type": "markdown",
      "metadata": {
        "id": "1xUKzI5mT9HW"
      },
      "source": [
        "**一些基本的數學運算**"
      ]
    },
    {
      "cell_type": "code",
      "execution_count": 10,
      "metadata": {
        "id": "--CfB7GqT9HW"
      },
      "outputs": [],
      "source": [
        "a = tf.ones((2, 2))\n",
        "b = tf.square(a)\n",
        "c = tf.sqrt(a)\n",
        "d = b + c\n",
        "e = tf.matmul(a, b)\n",
        "e *= d"
      ]
    },
    {
      "cell_type": "markdown",
      "metadata": {
        "id": "1yqu2zTxT9HW"
      },
      "source": [
        "#### 再看 GradientTape API"
      ]
    },
    {
      "cell_type": "markdown",
      "metadata": {
        "id": "qH-8IfNLT9HW"
      },
      "source": [
        "**用 `GradientTape`**"
      ]
    },
    {
      "cell_type": "code",
      "execution_count": 11,
      "metadata": {
        "id": "sb_TsiyJT9HW"
      },
      "outputs": [],
      "source": [
        "input_var = tf.Variable(initial_value=3.)\n",
        "with tf.GradientTape() as tape:\n",
        "   result = tf.square(input_var)\n",
        "gradient = tape.gradient(result, input_var)"
      ]
    },
    {
      "cell_type": "markdown",
      "metadata": {
        "id": "_yfpOvbBT9HX"
      },
      "source": [
        "**使用帶有恆定張量輸入的“GradientTape”**"
      ]
    },
    {
      "cell_type": "code",
      "execution_count": 12,
      "metadata": {
        "id": "S19iYE5ST9HX"
      },
      "outputs": [],
      "source": [
        "input_const = tf.constant(3.)\n",
        "with tf.GradientTape() as tape:\n",
        "   tape.watch(input_const)\n",
        "   result = tf.square(input_const)\n",
        "gradient = tape.gradient(result, input_const)"
      ]
    },
    {
      "cell_type": "markdown",
      "metadata": {
        "id": "lcunFqdvT9HX"
      },
      "source": [
        "**使用嵌套梯度帶計算二階梯度**"
      ]
    },
    {
      "cell_type": "code",
      "execution_count": 13,
      "metadata": {
        "id": "DqaiNjPbT9HX"
      },
      "outputs": [],
      "source": [
        "time = tf.Variable(0.)\n",
        "with tf.GradientTape() as outer_tape:\n",
        "    with tf.GradientTape() as inner_tape:\n",
        "        position =  4.9 * time ** 2\n",
        "    speed = inner_tape.gradient(position, time)\n",
        "acceleration = outer_tape.gradient(speed, time)"
      ]
    },
    {
      "cell_type": "markdown",
      "metadata": {
        "id": "EudXXnflT9HX"
      },
      "source": [
        "#### 端到端示例：純 TensorFlow 中的線性分類器"
      ]
    },
    {
      "cell_type": "markdown",
      "metadata": {
        "id": "FX2NDJV4T9HX"
      },
      "source": [
        "**在二維平面中生成兩類隨機點**"
      ]
    },
    {
      "cell_type": "code",
      "execution_count": 14,
      "metadata": {
        "id": "3-JQryPUT9HX"
      },
      "outputs": [],
      "source": [
        "num_samples_per_class = 1000\n",
        "negative_samples = np.random.multivariate_normal(\n",
        "    mean=[0, 3],\n",
        "    cov=[[1, 0.5],[0.5, 1]],\n",
        "    size=num_samples_per_class)\n",
        "positive_samples = np.random.multivariate_normal(\n",
        "    mean=[3, 0],\n",
        "    cov=[[1, 0.5],[0.5, 1]],\n",
        "    size=num_samples_per_class)"
      ]
    },
    {
      "cell_type": "markdown",
      "metadata": {
        "id": "VhxV4cehT9HY"
      },
      "source": [
        "**將兩個類堆疊成一個形狀為 (2000, 2) 的數組**"
      ]
    },
    {
      "cell_type": "code",
      "execution_count": 15,
      "metadata": {
        "id": "dQX-DCDcT9HY"
      },
      "outputs": [],
      "source": [
        "inputs = np.vstack((negative_samples, positive_samples)).astype(np.float32)"
      ]
    },
    {
      "cell_type": "markdown",
      "metadata": {
        "id": "hiV-KCUmT9HY"
      },
      "source": [
        "**生成對應的目標（0和1）**"
      ]
    },
    {
      "cell_type": "code",
      "execution_count": 16,
      "metadata": {
        "id": "A2KXFTqXT9HY"
      },
      "outputs": [],
      "source": [
        "targets = np.vstack((np.zeros((num_samples_per_class, 1), dtype=\"float32\"),\n",
        "                     np.ones((num_samples_per_class, 1), dtype=\"float32\")))"
      ]
    },
    {
      "cell_type": "markdown",
      "metadata": {
        "id": "Q0Ta-aBJT9HY"
      },
      "source": [
        "**繪製兩個點類**"
      ]
    },
    {
      "cell_type": "code",
      "execution_count": 17,
      "metadata": {
        "colab": {
          "base_uri": "https://localhost:8080/",
          "height": 265
        },
        "id": "VK0fJg9eT9HY",
        "outputId": "f68bf6a9-0da7-4de0-9dc5-0748ae3a552d"
      },
      "outputs": [
        {
          "output_type": "display_data",
          "data": {
            "text/plain": [
              "<Figure size 432x288 with 1 Axes>"
            ],
            "image/png": "[encoded data removed]"
          },
          "metadata": {
            "needs_background": "light"
          }
        }
      ],
      "source": [
        "import matplotlib.pyplot as plt\n",
        "plt.scatter(inputs[:, 0], inputs[:, 1], c=targets[:, 0])\n",
        "plt.show()"
      ]
    },
    {
      "cell_type": "markdown",
      "metadata": {
        "id": "hCGXMENIT9HY"
      },
      "source": [
        "**創建線性分類器變量**"
      ]
    },
    {
      "cell_type": "code",
      "execution_count": 18,
      "metadata": {
        "id": "4xZgktqWT9HY"
      },
      "outputs": [],
      "source": [
        "input_dim = 2\n",
        "output_dim = 1\n",
        "W = tf.Variable(initial_value=tf.random.uniform(shape=(input_dim, output_dim)))\n",
        "b = tf.Variable(initial_value=tf.zeros(shape=(output_dim,)))"
      ]
    },
    {
      "cell_type": "markdown",
      "metadata": {
        "id": "Q1CgGt4KT9HZ"
      },
      "source": [
        "**前向傳遞函數**"
      ]
    },
    {
      "cell_type": "code",
      "execution_count": 19,
      "metadata": {
        "id": "VbboHZ3dT9HZ"
      },
      "outputs": [],
      "source": [
        "def model(inputs):\n",
        "    return tf.matmul(inputs, W) + b"
      ]
    },
    {
      "cell_type": "markdown",
      "metadata": {
        "id": "gRJ4ZXkfT9HZ"
      },
      "source": [
        "**均方誤差損失函數**"
      ]
    },
    {
      "cell_type": "code",
      "execution_count": 20,
      "metadata": {
        "id": "iioehsvET9HZ"
      },
      "outputs": [],
      "source": [
        "def square_loss(targets, predictions):\n",
        "    per_sample_losses = tf.square(targets - predictions)\n",
        "    return tf.reduce_mean(per_sample_losses)"
      ]
    },
    {
      "cell_type": "markdown",
      "metadata": {
        "id": "6_3ZDFgLT9HZ"
      },
      "source": [
        "**訓練步驟函數**"
      ]
    },
    {
      "cell_type": "code",
      "execution_count": 21,
      "metadata": {
        "id": "MsL8AmbvT9HZ"
      },
      "outputs": [],
      "source": [
        "learning_rate = 0.1\n",
        "\n",
        "def training_step(inputs, targets):\n",
        "    with tf.GradientTape() as tape:\n",
        "        predictions = model(inputs)\n",
        "        loss = square_loss(targets, predictions)\n",
        "    grad_loss_wrt_W, grad_loss_wrt_b = tape.gradient(loss, [W, b])\n",
        "    W.assign_sub(grad_loss_wrt_W * learning_rate)\n",
        "    b.assign_sub(grad_loss_wrt_b * learning_rate)\n",
        "    return loss"
      ]
    },
    {
      "cell_type": "markdown",
      "metadata": {
        "id": "fLGs6J1kT9HZ"
      },
      "source": [
        "**批量訓練循環**"
      ]
    },
    {
      "cell_type": "code",
      "execution_count": 22,
      "metadata": {
        "colab": {
          "base_uri": "https://localhost:8080/"
        },
        "id": "WrKJyIckT9HZ",
        "outputId": "4fc14170-d6da-4589-de51-19b8b19b0f5f"
      },
      "outputs": [
        {
          "output_type": "stream",
          "name": "stdout",
          "text": [
            "Loss at step 0: 5.0710\n",
            "Loss at step 1: 0.6582\n",
            "Loss at step 2: 0.2114\n",
            "Loss at step 3: 0.1514\n",
            "Loss at step 4: 0.1351\n",
            "Loss at step 5: 0.1245\n",
            "Loss at step 6: 0.1154\n",
            "Loss at step 7: 0.1071\n",
            "Loss at step 8: 0.0996\n",
            "Loss at step 9: 0.0928\n",
            "Loss at step 10: 0.0866\n",
            "Loss at step 11: 0.0810\n",
            "Loss at step 12: 0.0758\n",
            "Loss at step 13: 0.0712\n",
            "Loss at step 14: 0.0669\n",
            "Loss at step 15: 0.0631\n",
            "Loss at step 16: 0.0596\n",
            "Loss at step 17: 0.0564\n",
            "Loss at step 18: 0.0535\n",
            "Loss at step 19: 0.0509\n",
            "Loss at step 20: 0.0485\n",
            "Loss at step 21: 0.0463\n",
            "Loss at step 22: 0.0443\n",
            "Loss at step 23: 0.0425\n",
            "Loss at step 24: 0.0409\n",
            "Loss at step 25: 0.0394\n",
            "Loss at step 26: 0.0380\n",
            "Loss at step 27: 0.0368\n",
            "Loss at step 28: 0.0357\n",
            "Loss at step 29: 0.0347\n",
            "Loss at step 30: 0.0337\n",
            "Loss at step 31: 0.0329\n",
            "Loss at step 32: 0.0321\n",
            "Loss at step 33: 0.0314\n",
            "Loss at step 34: 0.0308\n",
            "Loss at step 35: 0.0302\n",
            "Loss at step 36: 0.0297\n",
            "Loss at step 37: 0.0292\n",
            "Loss at step 38: 0.0288\n",
            "Loss at step 39: 0.0284\n"
          ]
        }
      ],
      "source": [
        "for step in range(40):\n",
        "    loss = training_step(inputs, targets)\n",
        "    print(f\"Loss at step {step}: {loss:.4f}\")"
      ]
    },
    {
      "cell_type": "code",
      "execution_count": 23,
      "metadata": {
        "colab": {
          "base_uri": "https://localhost:8080/",
          "height": 265
        },
        "id": "bxMBQWCXT9Ha",
        "outputId": "c7393c18-515a-4d63-8929-064329e0f8c5"
      },
      "outputs": [
        {
          "output_type": "display_data",
          "data": {
            "text/plain": [
              "<Figure size 432x288 with 1 Axes>"
            ],
            "image/png": "[encoded data removed]"
          },
          "metadata": {
            "needs_background": "light"
          }
        }
      ],
      "source": [
        "predictions = model(inputs)\n",
        "plt.scatter(inputs[:, 0], inputs[:, 1], c=predictions[:, 0] > 0.5)\n",
        "plt.show()"
      ]
    },
    {
      "cell_type": "code",
      "execution_count": 24,
      "metadata": {
        "colab": {
          "base_uri": "https://localhost:8080/",
          "height": 282
        },
        "id": "68My2B9yT9Ha",
        "outputId": "38778e90-62f0-4b08-f074-d788ba2b4ec1"
      },
      "outputs": [
        {
          "output_type": "execute_result",
          "data": {
            "text/plain": [
              "<matplotlib.collections.PathCollection at 0x7f691145bc90>"
            ]
          },
          "metadata": {},
          "execution_count": 24
        },
        {
          "output_type": "display_data",
          "data": {
            "text/plain": [
              "<Figure size 432x288 with 1 Axes>"
            ],
            "image/png": "[encoded data removed]"
          },
          "metadata": {
            "needs_background": "light"
          }
        }
      ],
      "source": [
        "x = np.linspace(-1, 4, 100)\n",
        "y = - W[0] /  W[1] * x + (0.5 - b) / W[1]\n",
        "plt.plot(x, y, \"-r\")\n",
        "plt.scatter(inputs[:, 0], inputs[:, 1], c=predictions[:, 0] > 0.5)"
      ]
    },
    {
      "cell_type": "markdown",
      "metadata": {
        "id": "Kvhc_bdcT9Ha"
      },
      "source": [
        "## 神經網絡剖析：了解核心 Keras API"
      ]
    },
    {
      "cell_type": "markdown",
      "metadata": {
        "id": "KKVkWn9GT9Ha"
      },
      "source": [
        "### 層：深度學習的基石"
      ]
    },
    {
      "cell_type": "markdown",
      "metadata": {
        "id": "6BCDA_zuT9Ha"
      },
      "source": [
        "#### Keras 中的基礎層類"
      ]
    },
    {
      "cell_type": "markdown",
      "metadata": {
        "id": "2ymRCH_tT9Ha"
      },
      "source": [
        "**一個作為“層”子類實現的“密集”層**"
      ]
    },
    {
      "cell_type": "code",
      "execution_count": 25,
      "metadata": {
        "id": "CISe-ms0T9Ha"
      },
      "outputs": [],
      "source": [
        "from tensorflow import keras\n",
        "\n",
        "class SimpleDense(keras.layers.Layer):\n",
        "\n",
        "    def __init__(self, units, activation=None):\n",
        "        super().__init__()\n",
        "        self.units = units\n",
        "        self.activation = activation\n",
        "\n",
        "    def build(self, input_shape):\n",
        "        input_dim = input_shape[-1]\n",
        "        self.W = self.add_weight(shape=(input_dim, self.units),\n",
        "                                 initializer=\"random_normal\")\n",
        "        self.b = self.add_weight(shape=(self.units,),\n",
        "                                 initializer=\"zeros\")\n",
        "\n",
        "    def call(self, inputs):\n",
        "        y = tf.matmul(inputs, self.W) + self.b\n",
        "        if self.activation is not None:\n",
        "            y = self.activation(y)\n",
        "        return y"
      ]
    },
    {
      "cell_type": "code",
      "execution_count": 26,
      "metadata": {
        "colab": {
          "base_uri": "https://localhost:8080/"
        },
        "id": "AFsfQDCRT9Hb",
        "outputId": "7684c5b4-61f7-4ddb-f0dc-88f3c06f147f"
      },
      "outputs": [
        {
          "output_type": "stream",
          "name": "stdout",
          "text": [
            "(2, 32)\n"
          ]
        }
      ],
      "source": [
        "my_dense = SimpleDense(units=32, activation=tf.nn.relu)\n",
        "input_tensor = tf.ones(shape=(2, 784))\n",
        "output_tensor = my_dense(input_tensor)\n",
        "print(output_tensor.shape)"
      ]
    },
    {
      "cell_type": "markdown",
      "metadata": {
        "id": "cBlSywymT9Hb"
      },
      "source": [
        "#### 自動形狀推斷：動態構建圖層\n"
      ]
    },
    {
      "cell_type": "code",
      "execution_count": 27,
      "metadata": {
        "id": "PCEva69OT9Hb"
      },
      "outputs": [],
      "source": [
        "from tensorflow.keras import layers\n",
        "layer = layers.Dense(32, activation=\"relu\")"
      ]
    },
    {
      "cell_type": "code",
      "execution_count": 28,
      "metadata": {
        "id": "LMtkTJc3T9Hb"
      },
      "outputs": [],
      "source": [
        "from tensorflow.keras import models\n",
        "from tensorflow.keras import layers\n",
        "model = models.Sequential([\n",
        "    layers.Dense(32, activation=\"relu\"),\n",
        "    layers.Dense(32)\n",
        "])"
      ]
    },
    {
      "cell_type": "code",
      "execution_count": 29,
      "metadata": {
        "id": "pZlzsUmET9Hb"
      },
      "outputs": [],
      "source": [
        "model = keras.Sequential([\n",
        "    SimpleDense(32, activation=\"relu\"),\n",
        "    SimpleDense(64, activation=\"relu\"),\n",
        "    SimpleDense(32, activation=\"relu\"),\n",
        "    SimpleDense(10, activation=\"softmax\")\n",
        "])"
      ]
    },
    {
      "cell_type": "markdown",
      "metadata": {
        "id": "ZlmweRNTT9Hb"
      },
      "source": [
        "### 從圖層到模型"
      ]
    },
    {
      "cell_type": "markdown",
      "metadata": {
        "id": "wk6m3OVIT9Hb"
      },
      "source": [
        "### “編譯”步驟：配置學習過程"
      ]
    },
    {
      "cell_type": "code",
      "execution_count": 30,
      "metadata": {
        "id": "IFtvc0g0T9Hb"
      },
      "outputs": [],
      "source": [
        "model = keras.Sequential([keras.layers.Dense(1)])\n",
        "model.compile(optimizer=\"rmsprop\",\n",
        "              loss=\"mean_squared_error\",\n",
        "              metrics=[\"accuracy\"])"
      ]
    },
    {
      "cell_type": "code",
      "execution_count": 31,
      "metadata": {
        "id": "DA5rzerPT9Hb"
      },
      "outputs": [],
      "source": [
        "model.compile(optimizer=keras.optimizers.RMSprop(),\n",
        "              loss=keras.losses.MeanSquaredError(),\n",
        "              metrics=[keras.metrics.BinaryAccuracy()])"
      ]
    },
    {
      "cell_type": "markdown",
      "metadata": {
        "id": "tycrIepET9Hc"
      },
      "source": [
        "### 選擇損失函數"
      ]
    },
    {
      "cell_type": "markdown",
      "metadata": {
        "id": "ycmd00M1T9Hc"
      },
      "source": [
        "### 理解 fit() 方法"
      ]
    },
    {
      "cell_type": "markdown",
      "metadata": {
        "id": "GpGhm6icT9Hc"
      },
      "source": [
        "**使用 NumPy 數據調用 `fit()`**"
      ]
    },
    {
      "cell_type": "code",
      "execution_count": 32,
      "metadata": {
        "colab": {
          "base_uri": "https://localhost:8080/"
        },
        "id": "STMBxAfnT9Hc",
        "outputId": "1d3f6a00-c5be-4a23-b6fb-298042a35bc4"
      },
      "outputs": [
        {
          "output_type": "stream",
          "name": "stdout",
          "text": [
            "Epoch 1/5\n",
            "16/16 [==============================] - 0s 3ms/step - loss: 6.3325 - binary_accuracy: 0.8965\n",
            "Epoch 2/5\n",
            "16/16 [==============================] - 0s 3ms/step - loss: 6.0709 - binary_accuracy: 0.8960\n",
            "Epoch 3/5\n",
            "16/16 [==============================] - 0s 3ms/step - loss: 5.8489 - binary_accuracy: 0.8950\n",
            "Epoch 4/5\n",
            "16/16 [==============================] - 0s 3ms/step - loss: 5.6365 - binary_accuracy: 0.8970\n",
            "Epoch 5/5\n",
            "16/16 [==============================] - 0s 2ms/step - loss: 5.4298 - binary_accuracy: 0.8970\n"
          ]
        }
      ],
      "source": [
        "history = model.fit(\n",
        "    inputs,\n",
        "    targets,\n",
        "    epochs=5,\n",
        "    batch_size=128\n",
        ")"
      ]
    },
    {
      "cell_type": "code",
      "execution_count": 33,
      "metadata": {
        "colab": {
          "base_uri": "https://localhost:8080/"
        },
        "id": "w8o_vJg5T9Hc",
        "outputId": "4e25e080-ae5f-439d-8b12-4e1c69f726fb"
      },
      "outputs": [
        {
          "output_type": "execute_result",
          "data": {
            "text/plain": [
              "{'loss': [6.33247184753418,\n",
              "  6.070865631103516,\n",
              "  5.848946571350098,\n",
              "  5.636476993560791,\n",
              "  5.429812908172607],\n",
              " 'binary_accuracy': [0.8964999914169312,\n",
              "  0.8960000276565552,\n",
              "  0.8949999809265137,\n",
              "  0.8970000147819519,\n",
              "  0.8970000147819519]}"
            ]
          },
          "metadata": {},
          "execution_count": 33
        }
      ],
      "source": [
        "history.history"
      ]
    },
    {
      "cell_type": "markdown",
      "metadata": {
        "id": "1DVMeHPLT9Hc"
      },
      "source": [
        "### 監控驗證數據的損失和指標"
      ]
    },
    {
      "cell_type": "markdown",
      "metadata": {
        "id": "eYnuEG1JT9Hc"
      },
      "source": [
        "**使用 `validation_data` 參數**"
      ]
    },
    {
      "cell_type": "code",
      "execution_count": 34,
      "metadata": {
        "colab": {
          "base_uri": "https://localhost:8080/"
        },
        "id": "iFbVE2hrT9Hc",
        "outputId": "544eaf46-e8f2-4598-cc73-d4a18779a54b"
      },
      "outputs": [
        {
          "output_type": "stream",
          "name": "stdout",
          "text": [
            "Epoch 1/5\n",
            "88/88 [==============================] - 1s 9ms/step - loss: 0.4591 - binary_accuracy: 0.8407 - val_loss: 0.3136 - val_binary_accuracy: 0.8067\n",
            "Epoch 2/5\n",
            "88/88 [==============================] - 0s 4ms/step - loss: 0.0727 - binary_accuracy: 0.9557 - val_loss: 0.0398 - val_binary_accuracy: 0.9950\n",
            "Epoch 3/5\n",
            "88/88 [==============================] - 0s 4ms/step - loss: 0.0674 - binary_accuracy: 0.9614 - val_loss: 0.0410 - val_binary_accuracy: 0.9967\n",
            "Epoch 4/5\n",
            "88/88 [==============================] - 0s 4ms/step - loss: 0.0717 - binary_accuracy: 0.9614 - val_loss: 0.0372 - val_binary_accuracy: 0.9967\n",
            "Epoch 5/5\n",
            "88/88 [==============================] - 0s 4ms/step - loss: 0.0669 - binary_accuracy: 0.9614 - val_loss: 0.0904 - val_binary_accuracy: 0.9450\n"
          ]
        },
        {
          "output_type": "execute_result",
          "data": {
            "text/plain": [
              "<keras.callbacks.History at 0x7f69111c11d0>"
            ]
          },
          "metadata": {},
          "execution_count": 34
        }
      ],
      "source": [
        "model = keras.Sequential([keras.layers.Dense(1)])\n",
        "model.compile(optimizer=keras.optimizers.RMSprop(learning_rate=0.1),\n",
        "              loss=keras.losses.MeanSquaredError(),\n",
        "              metrics=[keras.metrics.BinaryAccuracy()])\n",
        "\n",
        "indices_permutation = np.random.permutation(len(inputs))\n",
        "shuffled_inputs = inputs[indices_permutation]\n",
        "shuffled_targets = targets[indices_permutation]\n",
        "\n",
        "num_validation_samples = int(0.3 * len(inputs))\n",
        "val_inputs = shuffled_inputs[:num_validation_samples]\n",
        "val_targets = shuffled_targets[:num_validation_samples]\n",
        "training_inputs = shuffled_inputs[num_validation_samples:]\n",
        "training_targets = shuffled_targets[num_validation_samples:]\n",
        "model.fit(\n",
        "    training_inputs,\n",
        "    training_targets,\n",
        "    epochs=5,\n",
        "    batch_size=16,\n",
        "    validation_data=(val_inputs, val_targets)\n",
        ")"
      ]
    },
    {
      "cell_type": "markdown",
      "metadata": {
        "id": "5GWDY8jYT9Hc"
      },
      "source": [
        "### 推理：訓練後使用模型"
      ]
    },
    {
      "cell_type": "code",
      "execution_count": 35,
      "metadata": {
        "colab": {
          "base_uri": "https://localhost:8080/"
        },
        "id": "dZMl_sncT9Hc",
        "outputId": "35e4f256-26f8-44b3-85e4-e262c05197d1"
      },
      "outputs": [
        {
          "output_type": "stream",
          "name": "stdout",
          "text": [
            "[[ 0.8965862 ]\n",
            " [ 0.6822897 ]\n",
            " [ 0.5245501 ]\n",
            " [-0.14330727]\n",
            " [ 0.6769681 ]\n",
            " [ 0.7302239 ]\n",
            " [-0.1337009 ]\n",
            " [ 0.54288554]\n",
            " [ 0.7757228 ]\n",
            " [-0.06829339]]\n"
          ]
        }
      ],
      "source": [
        "predictions = model.predict(val_inputs, batch_size=128)\n",
        "print(predictions[:10])"
      ]
    }
  ],
  "metadata": {
    "colab": {
      "collapsed_sections": [],
      "provenance": [],
      "include_colab_link": true
    },
    "kernelspec": {
      "display_name": "Python 3",
      "language": "python",
      "name": "python3"
    },
    "language_info": {
      "codemirror_mode": {
        "name": "ipython",
        "version": 3
      },
      "file_extension": ".py",
      "mimetype": "text/x-python",
      "name": "python",
      "nbconvert_exporter": "python",
      "pygments_lexer": "ipython3",
      "version": "3.7.0"
    }
  },
  "nbformat": 4,
  "nbformat_minor": 0
}