{
  "cells": [
    {
      "cell_type": "markdown",
      "metadata": {
        "id": "view-in-github",
        "colab_type": "text"
      },
      "source": [
        "<a href=\"https://colab.research.google.com/github/Anson1013/HW/blob/main/ch05.ipynb\" target=\"_parent\"><img src=\"https://colab.research.google.com/assets/colab-badge.svg\" alt=\"Open In Colab\"/></a>"
      ]
    },
    {
      "cell_type": "markdown",
      "metadata": {
        "id": "OjMb9lKMURWZ"
      },
      "source": [
        "This is a companion notebook for the book [Deep Learning with Python, Second Edition](https://www.manning.com/books/deep-learning-with-python-second-edition?a_aid=keras&a_bid=76564dff). For readability, it only contains runnable code blocks and section titles, and omits everything else in the book: text paragraphs, figures, and pseudocode.\n",
        "\n",
        "**If you want to be able to follow what's going on, I recommend reading the notebook side by side with your copy of the book.**\n",
        "\n",
        "This notebook was generated for TensorFlow 2.6."
      ]
    },
    {
      "cell_type": "markdown",
      "metadata": {
        "id": "DISsxFKlURWc"
      },
      "source": [
        "# Fundamentals of machine learning"
      ]
    },
    {
      "cell_type": "markdown",
      "metadata": {
        "id": "3PFkJIvhURWc"
      },
      "source": [
        "## Generalization: The goal of machine learning"
      ]
    },
    {
      "cell_type": "markdown",
      "metadata": {
        "id": "C5p9NJdnURWc"
      },
      "source": [
        "### Underfitting and overfitting"
      ]
    },
    {
      "cell_type": "markdown",
      "metadata": {
        "id": "K4q6Tg4XURWd"
      },
      "source": [
        "#### Noisy training data"
      ]
    },
    {
      "cell_type": "markdown",
      "metadata": {
        "id": "1v-vFW4bURWd"
      },
      "source": [
        "#### Ambiguous features"
      ]
    },
    {
      "cell_type": "markdown",
      "metadata": {
        "id": "YXp2KLRFURWd"
      },
      "source": [
        "#### Rare features and spurious correlations"
      ]
    },
    {
      "cell_type": "markdown",
      "metadata": {
        "id": "TFUfQzdqURWe"
      },
      "source": [
        "**Adding white-noise channels or all-zeros channels to MNIST**"
      ]
    },
    {
      "cell_type": "code",
      "execution_count": null,
      "metadata": {
        "id": "INP_77rjURWf"
      },
      "outputs": [],
      "source": [
        "from tensorflow.keras.datasets import mnist\n",
        "import numpy as np\n",
        "\n",
        "(train_images, train_labels), _ = mnist.load_data()\n",
        "train_images = train_images.reshape((60000, 28 * 28))\n",
        "train_images = train_images.astype(\"float32\") / 255\n",
        "\n",
        "train_images_with_noise_channels = np.concatenate(\n",
        "    [train_images, np.random.random((len(train_images), 784))], axis=1)\n",
        "\n",
        "train_images_with_zeros_channels = np.concatenate(\n",
        "    [train_images, np.zeros((len(train_images), 784))], axis=1)"
      ]
    },
    {
      "cell_type": "markdown",
      "metadata": {
        "id": "5wIlunX9URWg"
      },
      "source": [
        "**Training the same model on MNIST data with noise channels or all-zero channels**"
      ]
    },
    {
      "cell_type": "code",
      "execution_count": null,
      "metadata": {
        "colab": {
          "base_uri": "https://localhost:8080/"
        },
        "id": "HJwLV1-3URWg",
        "outputId": "c4dd22b0-51a4-4dce-87cf-cf8ed7ddce9c"
      },
      "outputs": [
        {
          "output_type": "stream",
          "name": "stdout",
          "text": [
            "Epoch 1/10\n",
            "375/375 [==============================] - 9s 23ms/step - loss: 0.6190 - accuracy: 0.8110 - val_loss: 0.3022 - val_accuracy: 0.9083\n",
            "Epoch 2/10\n",
            "375/375 [==============================] - 7s 19ms/step - loss: 0.2516 - accuracy: 0.9213 - val_loss: 0.1954 - val_accuracy: 0.9394\n",
            "Epoch 3/10\n",
            "375/375 [==============================] - 7s 19ms/step - loss: 0.1647 - accuracy: 0.9498 - val_loss: 0.1406 - val_accuracy: 0.9597\n",
            "Epoch 4/10\n",
            "375/375 [==============================] - 7s 19ms/step - loss: 0.1164 - accuracy: 0.9631 - val_loss: 0.1541 - val_accuracy: 0.9543\n",
            "Epoch 5/10\n",
            "375/375 [==============================] - 8s 22ms/step - loss: 0.0843 - accuracy: 0.9729 - val_loss: 0.1325 - val_accuracy: 0.9628\n",
            "Epoch 6/10\n",
            "375/375 [==============================] - 7s 20ms/step - loss: 0.0628 - accuracy: 0.9801 - val_loss: 0.1148 - val_accuracy: 0.9664\n",
            "Epoch 7/10\n",
            "375/375 [==============================] - 7s 19ms/step - loss: 0.0466 - accuracy: 0.9847 - val_loss: 0.1412 - val_accuracy: 0.9604\n",
            "Epoch 8/10\n",
            "375/375 [==============================] - 7s 20ms/step - loss: 0.0356 - accuracy: 0.9885 - val_loss: 0.1423 - val_accuracy: 0.9619\n",
            "Epoch 9/10\n",
            "375/375 [==============================] - 7s 19ms/step - loss: 0.0270 - accuracy: 0.9910 - val_loss: 0.1279 - val_accuracy: 0.9688\n",
            "Epoch 10/10\n",
            "375/375 [==============================] - 7s 19ms/step - loss: 0.0210 - accuracy: 0.9931 - val_loss: 0.1449 - val_accuracy: 0.9652\n",
            "Epoch 1/2\n",
            "375/375 [==============================] - 8s 20ms/step - loss: 0.2839 - accuracy: 0.9172 - val_loss: 0.1532 - val_accuracy: 0.9547\n",
            "Epoch 2/2\n",
            "375/375 [==============================] - 7s 19ms/step - loss: 0.1189 - accuracy: 0.9646 - val_loss: 0.1082 - val_accuracy: 0.9697\n"
          ]
        }
      ],
      "source": [
        "from tensorflow import keras\n",
        "from tensorflow.keras import layers\n",
        "\n",
        "def get_model():\n",
        "    model = keras.Sequential([\n",
        "        layers.Dense(512, activation=\"relu\"),\n",
        "        layers.Dense(10, activation=\"softmax\")\n",
        "    ])\n",
        "    model.compile(optimizer=\"rmsprop\",\n",
        "                  loss=\"sparse_categorical_crossentropy\",\n",
        "                  metrics=[\"accuracy\"])\n",
        "    return model\n",
        "\n",
        "model = get_model()\n",
        "history_noise = model.fit(\n",
        "    train_images_with_noise_channels, train_labels,\n",
        "    epochs=10,\n",
        "    batch_size=128,\n",
        "    validation_split=0.2)\n",
        "\n",
        "model = get_model()\n",
        "history_zeros = model.fit(\n",
        "    train_images_with_zeros_channels, train_labels,\n",
        "    epochs=2,\n",
        "    batch_size=128,\n",
        "    validation_split=0.2)"
      ]
    },
    {
      "cell_type": "markdown",
      "metadata": {
        "id": "dook5kIvURWh"
      },
      "source": [
        "**Plotting a validation accuracy comparison**"
      ]
    },
    {
      "cell_type": "code",
      "execution_count": null,
      "metadata": {
        "id": "TzA8oSnCURWh"
      },
      "outputs": [],
      "source": [
        "import matplotlib.pyplot as plt\n",
        "val_acc_noise = history_noise.history[\"val_accuracy\"]\n",
        "val_acc_zeros = history_zeros.history[\"val_accuracy\"]\n",
        "epochs = range(1, 11)\n",
        "plt.plot(epochs, val_acc_noise, \"b-\",\n",
        "         label=\"Validation accuracy with noise channels\")\n",
        "plt.plot(epochs, val_acc_zeros, \"b--\",\n",
        "         label=\"Validation accuracy with zeros channels\")\n",
        "plt.title(\"Effect of noise channels on validation accuracy\")\n",
        "plt.xlabel(\"Epochs\")\n",
        "plt.ylabel(\"Accuracy\")\n",
        "plt.legend()"
      ]
    },
    {
      "cell_type": "markdown",
      "metadata": {
        "id": "j1BxIaFbURWh"
      },
      "source": [
        "### The nature of generalization in deep learning"
      ]
    },
    {
      "cell_type": "markdown",
      "metadata": {
        "id": "G9TlRHqDURWi"
      },
      "source": [
        "**Fitting a MNIST model with randomly shuffled labels**"
      ]
    },
    {
      "cell_type": "code",
      "execution_count": null,
      "metadata": {
        "colab": {
          "base_uri": "https://localhost:8080/"
        },
        "id": "omHUTpC_URWi",
        "outputId": "248a9426-05b1-4371-843a-4faec1a78275"
      },
      "outputs": [
        {
          "output_type": "stream",
          "name": "stdout",
          "text": [
            "Epoch 1/2\n",
            "375/375 [==============================] - 5s 12ms/step - loss: 2.3167 - accuracy: 0.1044 - val_loss: 2.3057 - val_accuracy: 0.1045\n",
            "Epoch 2/2\n",
            "375/375 [==============================] - 4s 11ms/step - loss: 2.2998 - accuracy: 0.1159 - val_loss: 2.3085 - val_accuracy: 0.1036\n"
          ]
        },
        {
          "output_type": "execute_result",
          "data": {
            "text/plain": [
              "<keras.callbacks.History at 0x7f9583e8bd90>"
            ]
          },
          "metadata": {},
          "execution_count": 8
        }
      ],
      "source": [
        "(train_images, train_labels), _ = mnist.load_data()\n",
        "train_images = train_images.reshape((60000, 28 * 28))\n",
        "train_images = train_images.astype(\"float32\") / 255\n",
        "\n",
        "random_train_labels = train_labels[:]\n",
        "np.random.shuffle(random_train_labels)\n",
        "\n",
        "model = keras.Sequential([\n",
        "    layers.Dense(512, activation=\"relu\"),\n",
        "    layers.Dense(10, activation=\"softmax\")\n",
        "])\n",
        "model.compile(optimizer=\"rmsprop\",\n",
        "              loss=\"sparse_categorical_crossentropy\",\n",
        "              metrics=[\"accuracy\"])\n",
        "model.fit(train_images, random_train_labels,\n",
        "          epochs=2,\n",
        "          batch_size=128,\n",
        "          validation_split=0.2)"
      ]
    },
    {
      "cell_type": "markdown",
      "metadata": {
        "id": "QZv-KUkqURWi"
      },
      "source": [
        "#### The manifold hypothesis"
      ]
    },
    {
      "cell_type": "markdown",
      "metadata": {
        "id": "vQICDXBBURWi"
      },
      "source": [
        "#### Interpolation as a source of generalization"
      ]
    },
    {
      "cell_type": "markdown",
      "metadata": {
        "id": "6wPlgDWXURWi"
      },
      "source": [
        "#### Why deep learning works"
      ]
    },
    {
      "cell_type": "markdown",
      "metadata": {
        "id": "4iUzldBeURWj"
      },
      "source": [
        "#### Training data is paramount"
      ]
    },
    {
      "cell_type": "markdown",
      "metadata": {
        "id": "jAJEkR1gURWj"
      },
      "source": [
        "## Evaluating machine-learning models"
      ]
    },
    {
      "cell_type": "markdown",
      "metadata": {
        "id": "BzradJJlURWj"
      },
      "source": [
        "### Training, validation, and test sets"
      ]
    },
    {
      "cell_type": "markdown",
      "metadata": {
        "id": "6LcC5BG5URWj"
      },
      "source": [
        "#### Simple hold-out validation"
      ]
    },
    {
      "cell_type": "markdown",
      "metadata": {
        "id": "Q-qaaraKURWj"
      },
      "source": [
        "#### K-fold validation"
      ]
    },
    {
      "cell_type": "markdown",
      "metadata": {
        "id": "BNaQDrwMURWj"
      },
      "source": [
        "#### Iterated K-fold validation with shuffling"
      ]
    },
    {
      "cell_type": "markdown",
      "metadata": {
        "id": "tjROpajFURWj"
      },
      "source": [
        "### Beating a common-sense baseline"
      ]
    },
    {
      "cell_type": "markdown",
      "metadata": {
        "id": "R-0cSjckURWk"
      },
      "source": [
        "### Things to keep in mind about model evaluation"
      ]
    },
    {
      "cell_type": "markdown",
      "metadata": {
        "id": "ZMQFZ2-IURWk"
      },
      "source": [
        "## Improving model fit"
      ]
    },
    {
      "cell_type": "markdown",
      "metadata": {
        "id": "OHCzHkS7URWk"
      },
      "source": [
        "### Tuning key gradient descent parameters"
      ]
    },
    {
      "cell_type": "markdown",
      "metadata": {
        "id": "9_1luFHdURWk"
      },
      "source": [
        "**Training a MNIST model with an incorrectly high learning rate**"
      ]
    },
    {
      "cell_type": "code",
      "execution_count": null,
      "metadata": {
        "colab": {
          "base_uri": "https://localhost:8080/"
        },
        "id": "iqO5hS8dURWk",
        "outputId": "45be095f-5146-4916-b05b-d949a9258596"
      },
      "outputs": [
        {
          "output_type": "stream",
          "name": "stdout",
          "text": [
            "Epoch 1/10\n",
            "375/375 [==============================] - 7s 18ms/step - loss: 913.4846 - accuracy: 0.4590 - val_loss: 3.0264 - val_accuracy: 0.3106\n",
            "Epoch 2/10\n",
            "375/375 [==============================] - 4s 12ms/step - loss: 9.2748 - accuracy: 0.2926 - val_loss: 2.4519 - val_accuracy: 0.2715\n",
            "Epoch 3/10\n",
            "375/375 [==============================] - 5s 14ms/step - loss: 3.3121 - accuracy: 0.2665 - val_loss: 2.8579 - val_accuracy: 0.2774\n",
            "Epoch 4/10\n",
            "375/375 [==============================] - 5s 14ms/step - loss: 3.4031 - accuracy: 0.2713 - val_loss: 2.3614 - val_accuracy: 0.2793\n",
            "Epoch 5/10\n",
            "375/375 [==============================] - 4s 12ms/step - loss: 3.4157 - accuracy: 0.2891 - val_loss: 2.0690 - val_accuracy: 0.2243\n",
            "Epoch 6/10\n",
            "375/375 [==============================] - 4s 12ms/step - loss: 3.0525 - accuracy: 0.2884 - val_loss: 2.1361 - val_accuracy: 0.3019\n",
            "Epoch 7/10\n",
            "375/375 [==============================] - 5s 13ms/step - loss: 2.4749 - accuracy: 0.2540 - val_loss: 2.2808 - val_accuracy: 0.2846\n",
            "Epoch 8/10\n",
            "375/375 [==============================] - 4s 11ms/step - loss: 3.1389 - accuracy: 0.2821 - val_loss: 3.4874 - val_accuracy: 0.3391\n",
            "Epoch 9/10\n",
            "375/375 [==============================] - 4s 11ms/step - loss: 2.9264 - accuracy: 0.2904 - val_loss: 2.1174 - val_accuracy: 0.2968\n",
            "Epoch 10/10\n",
            "375/375 [==============================] - 4s 11ms/step - loss: 2.6112 - accuracy: 0.3069 - val_loss: 2.0674 - val_accuracy: 0.3149\n"
          ]
        },
        {
          "output_type": "execute_result",
          "data": {
            "text/plain": [
              "<keras.callbacks.History at 0x7f9583924ad0>"
            ]
          },
          "metadata": {},
          "execution_count": 9
        }
      ],
      "source": [
        "(train_images, train_labels), _ = mnist.load_data()\n",
        "train_images = train_images.reshape((60000, 28 * 28))\n",
        "train_images = train_images.astype(\"float32\") / 255\n",
        "\n",
        "model = keras.Sequential([\n",
        "    layers.Dense(512, activation=\"relu\"),\n",
        "    layers.Dense(10, activation=\"softmax\")\n",
        "])\n",
        "model.compile(optimizer=keras.optimizers.RMSprop(1.),\n",
        "              loss=\"sparse_categorical_crossentropy\",\n",
        "              metrics=[\"accuracy\"])\n",
        "model.fit(train_images, train_labels,\n",
        "          epochs=10,\n",
        "          batch_size=128,\n",
        "          validation_split=0.2)"
      ]
    },
    {
      "cell_type": "markdown",
      "metadata": {
        "id": "b2oQPF4AURWk"
      },
      "source": [
        "**The same model with a more appropriate learning rate**"
      ]
    },
    {
      "cell_type": "code",
      "execution_count": null,
      "metadata": {
        "colab": {
          "base_uri": "https://localhost:8080/"
        },
        "id": "vrGe_rZoURWk",
        "outputId": "f8de0483-f8ee-4d6e-ff01-0455a1e03441"
      },
      "outputs": [
        {
          "output_type": "stream",
          "name": "stdout",
          "text": [
            "Epoch 1/10\n",
            "375/375 [==============================] - 5s 12ms/step - loss: 0.3375 - accuracy: 0.9136 - val_loss: 0.1983 - val_accuracy: 0.9492\n",
            "Epoch 2/10\n",
            "375/375 [==============================] - 4s 12ms/step - loss: 0.1428 - accuracy: 0.9634 - val_loss: 0.1538 - val_accuracy: 0.9661\n",
            "Epoch 3/10\n",
            "375/375 [==============================] - 4s 11ms/step - loss: 0.1185 - accuracy: 0.9725 - val_loss: 0.1885 - val_accuracy: 0.9666\n",
            "Epoch 4/10\n",
            "375/375 [==============================] - 4s 11ms/step - loss: 0.1020 - accuracy: 0.9776 - val_loss: 0.2274 - val_accuracy: 0.9676\n",
            "Epoch 5/10\n",
            "375/375 [==============================] - 4s 11ms/step - loss: 0.0888 - accuracy: 0.9822 - val_loss: 0.2022 - val_accuracy: 0.9704\n",
            "Epoch 6/10\n",
            "375/375 [==============================] - 4s 11ms/step - loss: 0.0824 - accuracy: 0.9838 - val_loss: 0.2112 - val_accuracy: 0.9752\n",
            "Epoch 7/10\n",
            "375/375 [==============================] - 4s 11ms/step - loss: 0.0794 - accuracy: 0.9856 - val_loss: 0.2553 - val_accuracy: 0.9751\n",
            "Epoch 8/10\n",
            "375/375 [==============================] - 4s 11ms/step - loss: 0.0697 - accuracy: 0.9877 - val_loss: 0.2912 - val_accuracy: 0.9722\n",
            "Epoch 9/10\n",
            "375/375 [==============================] - 4s 11ms/step - loss: 0.0633 - accuracy: 0.9889 - val_loss: 0.2665 - val_accuracy: 0.9753\n",
            "Epoch 10/10\n",
            "375/375 [==============================] - 4s 11ms/step - loss: 0.0575 - accuracy: 0.9903 - val_loss: 0.3115 - val_accuracy: 0.9750\n"
          ]
        },
        {
          "output_type": "execute_result",
          "data": {
            "text/plain": [
              "<keras.callbacks.History at 0x7f957cf1ab50>"
            ]
          },
          "metadata": {},
          "execution_count": 10
        }
      ],
      "source": [
        "model = keras.Sequential([\n",
        "    layers.Dense(512, activation=\"relu\"),\n",
        "    layers.Dense(10, activation=\"softmax\")\n",
        "])\n",
        "model.compile(optimizer=keras.optimizers.RMSprop(1e-2),\n",
        "              loss=\"sparse_categorical_crossentropy\",\n",
        "              metrics=[\"accuracy\"])\n",
        "model.fit(train_images, train_labels,\n",
        "          epochs=10,\n",
        "          batch_size=128,\n",
        "          validation_split=0.2)"
      ]
    },
    {
      "cell_type": "markdown",
      "metadata": {
        "id": "1h1iDrrRURWk"
      },
      "source": [
        "### Leveraging better architecture priors"
      ]
    },
    {
      "cell_type": "markdown",
      "metadata": {
        "id": "104yWMqmURWl"
      },
      "source": [
        "### Increasing model capacity"
      ]
    },
    {
      "cell_type": "markdown",
      "metadata": {
        "id": "WRhDN0PtURWl"
      },
      "source": [
        "**A simple logistic regression on MNIST**"
      ]
    },
    {
      "cell_type": "code",
      "execution_count": null,
      "metadata": {
        "colab": {
          "base_uri": "https://localhost:8080/"
        },
        "id": "UHGOFaJ_URWl",
        "outputId": "7af49b1a-8e73-4af1-c5f8-b067ba9d566b"
      },
      "outputs": [
        {
          "output_type": "stream",
          "name": "stdout",
          "text": [
            "Epoch 1/20\n",
            "375/375 [==============================] - 2s 5ms/step - loss: 0.6674 - accuracy: 0.8358 - val_loss: 0.3571 - val_accuracy: 0.9045\n",
            "Epoch 2/20\n",
            "375/375 [==============================] - 2s 4ms/step - loss: 0.3502 - accuracy: 0.9036 - val_loss: 0.3066 - val_accuracy: 0.9128\n",
            "Epoch 3/20\n",
            "375/375 [==============================] - 1s 3ms/step - loss: 0.3148 - accuracy: 0.9124 - val_loss: 0.2894 - val_accuracy: 0.9194\n",
            "Epoch 4/20\n",
            "375/375 [==============================] - 1s 3ms/step - loss: 0.2990 - accuracy: 0.9158 - val_loss: 0.2801 - val_accuracy: 0.9215\n",
            "Epoch 5/20\n",
            "375/375 [==============================] - 1s 3ms/step - loss: 0.2892 - accuracy: 0.9189 - val_loss: 0.2754 - val_accuracy: 0.9245\n",
            "Epoch 6/20\n",
            "375/375 [==============================] - 1s 3ms/step - loss: 0.2827 - accuracy: 0.9208 - val_loss: 0.2712 - val_accuracy: 0.9253\n",
            "Epoch 7/20\n",
            "375/375 [==============================] - 1s 3ms/step - loss: 0.2781 - accuracy: 0.9224 - val_loss: 0.2708 - val_accuracy: 0.9243\n",
            "Epoch 8/20\n",
            "375/375 [==============================] - 1s 3ms/step - loss: 0.2740 - accuracy: 0.9233 - val_loss: 0.2671 - val_accuracy: 0.9280\n",
            "Epoch 9/20\n",
            "375/375 [==============================] - 1s 3ms/step - loss: 0.2712 - accuracy: 0.9243 - val_loss: 0.2656 - val_accuracy: 0.9273\n",
            "Epoch 10/20\n",
            "375/375 [==============================] - 1s 3ms/step - loss: 0.2687 - accuracy: 0.9258 - val_loss: 0.2641 - val_accuracy: 0.9279\n",
            "Epoch 11/20\n",
            "375/375 [==============================] - 1s 3ms/step - loss: 0.2664 - accuracy: 0.9266 - val_loss: 0.2643 - val_accuracy: 0.9279\n",
            "Epoch 12/20\n",
            "375/375 [==============================] - 1s 3ms/step - loss: 0.2648 - accuracy: 0.9266 - val_loss: 0.2629 - val_accuracy: 0.9287\n",
            "Epoch 13/20\n",
            "375/375 [==============================] - 1s 3ms/step - loss: 0.2632 - accuracy: 0.9269 - val_loss: 0.2628 - val_accuracy: 0.9295\n",
            "Epoch 14/20\n",
            "375/375 [==============================] - 1s 3ms/step - loss: 0.2614 - accuracy: 0.9278 - val_loss: 0.2616 - val_accuracy: 0.9300\n",
            "Epoch 15/20\n",
            "375/375 [==============================] - 1s 3ms/step - loss: 0.2603 - accuracy: 0.9289 - val_loss: 0.2616 - val_accuracy: 0.9298\n",
            "Epoch 16/20\n",
            "375/375 [==============================] - 1s 3ms/step - loss: 0.2591 - accuracy: 0.9289 - val_loss: 0.2616 - val_accuracy: 0.9299\n",
            "Epoch 17/20\n",
            "375/375 [==============================] - 1s 3ms/step - loss: 0.2580 - accuracy: 0.9296 - val_loss: 0.2626 - val_accuracy: 0.9293\n",
            "Epoch 18/20\n",
            "375/375 [==============================] - 2s 4ms/step - loss: 0.2570 - accuracy: 0.9297 - val_loss: 0.2619 - val_accuracy: 0.9294\n",
            "Epoch 19/20\n",
            "375/375 [==============================] - 1s 3ms/step - loss: 0.2562 - accuracy: 0.9301 - val_loss: 0.2625 - val_accuracy: 0.9294\n",
            "Epoch 20/20\n",
            "375/375 [==============================] - 1s 3ms/step - loss: 0.2555 - accuracy: 0.9300 - val_loss: 0.2621 - val_accuracy: 0.9302\n"
          ]
        }
      ],
      "source": [
        "model = keras.Sequential([layers.Dense(10, activation=\"softmax\")])\n",
        "model.compile(optimizer=\"rmsprop\",\n",
        "              loss=\"sparse_categorical_crossentropy\",\n",
        "              metrics=[\"accuracy\"])\n",
        "history_small_model = model.fit(\n",
        "    train_images, train_labels,\n",
        "    epochs=20,\n",
        "    batch_size=128,\n",
        "    validation_split=0.2)"
      ]
    },
    {
      "cell_type": "code",
      "execution_count": null,
      "metadata": {
        "colab": {
          "base_uri": "https://localhost:8080/",
          "height": 312
        },
        "id": "UzvFvgdhURWl",
        "outputId": "fa1a55ca-41cd-4bae-b01a-eba8bc98f60d"
      },
      "outputs": [
        {
          "output_type": "execute_result",
          "data": {
            "text/plain": [
              "<matplotlib.legend.Legend at 0x7f957ed30050>"
            ]
          },
          "metadata": {},
          "execution_count": 12
        },
        {
          "output_type": "display_data",
          "data": {
            "text/plain": [
              "<Figure size 432x288 with 1 Axes>"
            ],
            "image/png": "[encoded data removed]"
          },
          "metadata": {
            "needs_background": "light"
          }
        }
      ],
      "source": [
        "import matplotlib.pyplot as plt\n",
        "val_loss = history_small_model.history[\"val_loss\"]\n",
        "epochs = range(1, 21)\n",
        "plt.plot(epochs, val_loss, \"b--\",\n",
        "         label=\"Validation loss\")\n",
        "plt.title(\"Effect of insufficient model capacity on validation loss\")\n",
        "plt.xlabel(\"Epochs\")\n",
        "plt.ylabel(\"Loss\")\n",
        "plt.legend()"
      ]
    },
    {
      "cell_type": "code",
      "execution_count": null,
      "metadata": {
        "colab": {
          "base_uri": "https://localhost:8080/"
        },
        "id": "z4TWPhkDURWl",
        "outputId": "20354927-3cd0-4849-8e40-599e97c9bf05"
      },
      "outputs": [
        {
          "output_type": "stream",
          "name": "stdout",
          "text": [
            "Epoch 1/20\n",
            "375/375 [==============================] - 3s 6ms/step - loss: 0.3641 - accuracy: 0.8975 - val_loss: 0.1883 - val_accuracy: 0.9461\n",
            "Epoch 2/20\n",
            "375/375 [==============================] - 2s 5ms/step - loss: 0.1637 - accuracy: 0.9520 - val_loss: 0.1396 - val_accuracy: 0.9601\n",
            "Epoch 3/20\n",
            "375/375 [==============================] - 2s 5ms/step - loss: 0.1155 - accuracy: 0.9650 - val_loss: 0.1135 - val_accuracy: 0.9667\n",
            "Epoch 4/20\n",
            "375/375 [==============================] - 2s 5ms/step - loss: 0.0867 - accuracy: 0.9740 - val_loss: 0.1069 - val_accuracy: 0.9680\n",
            "Epoch 5/20\n",
            "375/375 [==============================] - 2s 6ms/step - loss: 0.0720 - accuracy: 0.9781 - val_loss: 0.0949 - val_accuracy: 0.9731\n",
            "Epoch 6/20\n",
            "375/375 [==============================] - 2s 5ms/step - loss: 0.0579 - accuracy: 0.9821 - val_loss: 0.1022 - val_accuracy: 0.9713\n",
            "Epoch 7/20\n",
            "375/375 [==============================] - 2s 6ms/step - loss: 0.0485 - accuracy: 0.9849 - val_loss: 0.0939 - val_accuracy: 0.9733\n",
            "Epoch 8/20\n",
            "375/375 [==============================] - 2s 6ms/step - loss: 0.0396 - accuracy: 0.9876 - val_loss: 0.0917 - val_accuracy: 0.9754\n",
            "Epoch 9/20\n",
            "375/375 [==============================] - 2s 5ms/step - loss: 0.0344 - accuracy: 0.9895 - val_loss: 0.0943 - val_accuracy: 0.9748\n",
            "Epoch 10/20\n",
            "375/375 [==============================] - 2s 5ms/step - loss: 0.0290 - accuracy: 0.9911 - val_loss: 0.0984 - val_accuracy: 0.9752\n",
            "Epoch 11/20\n",
            "375/375 [==============================] - 2s 6ms/step - loss: 0.0243 - accuracy: 0.9925 - val_loss: 0.1103 - val_accuracy: 0.9713\n",
            "Epoch 12/20\n",
            "375/375 [==============================] - 2s 6ms/step - loss: 0.0198 - accuracy: 0.9939 - val_loss: 0.1059 - val_accuracy: 0.9753\n",
            "Epoch 13/20\n",
            "375/375 [==============================] - 2s 6ms/step - loss: 0.0177 - accuracy: 0.9943 - val_loss: 0.1122 - val_accuracy: 0.9747\n",
            "Epoch 14/20\n",
            "375/375 [==============================] - 2s 6ms/step - loss: 0.0143 - accuracy: 0.9954 - val_loss: 0.1126 - val_accuracy: 0.9752\n",
            "Epoch 15/20\n",
            "375/375 [==============================] - 2s 6ms/step - loss: 0.0124 - accuracy: 0.9964 - val_loss: 0.1397 - val_accuracy: 0.9721\n",
            "Epoch 16/20\n",
            "375/375 [==============================] - 2s 6ms/step - loss: 0.0106 - accuracy: 0.9968 - val_loss: 0.1210 - val_accuracy: 0.9753\n",
            "Epoch 17/20\n",
            "375/375 [==============================] - 2s 6ms/step - loss: 0.0091 - accuracy: 0.9972 - val_loss: 0.1224 - val_accuracy: 0.9755\n",
            "Epoch 18/20\n",
            "375/375 [==============================] - 2s 6ms/step - loss: 0.0079 - accuracy: 0.9976 - val_loss: 0.1278 - val_accuracy: 0.9765\n",
            "Epoch 19/20\n",
            "375/375 [==============================] - 2s 6ms/step - loss: 0.0070 - accuracy: 0.9977 - val_loss: 0.1368 - val_accuracy: 0.9734\n",
            "Epoch 20/20\n",
            "375/375 [==============================] - 2s 6ms/step - loss: 0.0053 - accuracy: 0.9983 - val_loss: 0.1359 - val_accuracy: 0.9759\n"
          ]
        }
      ],
      "source": [
        "model = keras.Sequential([\n",
        "    layers.Dense(96, activation=\"relu\"),\n",
        "    layers.Dense(96, activation=\"relu\"),\n",
        "    layers.Dense(10, activation=\"softmax\"),\n",
        "])\n",
        "model.compile(optimizer=\"rmsprop\",\n",
        "              loss=\"sparse_categorical_crossentropy\",\n",
        "              metrics=[\"accuracy\"])\n",
        "history_large_model = model.fit(\n",
        "    train_images, train_labels,\n",
        "    epochs=20,\n",
        "    batch_size=128,\n",
        "    validation_split=0.2)"
      ]
    },
    {
      "cell_type": "markdown",
      "metadata": {
        "id": "UNu1fe0kURWl"
      },
      "source": [
        "## Improving generalization"
      ]
    },
    {
      "cell_type": "markdown",
      "metadata": {
        "id": "b5sTKK5WURWl"
      },
      "source": [
        "### Dataset curation"
      ]
    },
    {
      "cell_type": "markdown",
      "metadata": {
        "id": "dxlnYw7iURWm"
      },
      "source": [
        "### Feature engineering"
      ]
    },
    {
      "cell_type": "markdown",
      "metadata": {
        "id": "yV9SOi7jURWm"
      },
      "source": [
        "### Using early stopping"
      ]
    },
    {
      "cell_type": "markdown",
      "metadata": {
        "id": "kJLLis37URWm"
      },
      "source": [
        "### Regularizing your model"
      ]
    },
    {
      "cell_type": "markdown",
      "metadata": {
        "id": "4Fp4Ox_AURWm"
      },
      "source": [
        "#### Reducing the network's size"
      ]
    },
    {
      "cell_type": "markdown",
      "metadata": {
        "id": "m7UbTKRGURWm"
      },
      "source": [
        "**Original model**"
      ]
    },
    {
      "cell_type": "code",
      "execution_count": null,
      "metadata": {
        "colab": {
          "base_uri": "https://localhost:8080/"
        },
        "id": "fOvskE6TURWm",
        "outputId": "b41a4d66-34b1-46d4-cc44-d022c2ec5f66"
      },
      "outputs": [
        {
          "output_type": "stream",
          "name": "stdout",
          "text": [
            "Downloading data from https://storage.googleapis.com/tensorflow/tf-keras-datasets/imdb.npz\n",
            "17464789/17464789 [==============================] - 0s 0us/step\n",
            "Epoch 1/20\n",
            "30/30 [==============================] - 2s 42ms/step - loss: 0.5014 - accuracy: 0.7942 - val_loss: 0.3737 - val_accuracy: 0.8728\n",
            "Epoch 2/20\n",
            "30/30 [==============================] - 1s 32ms/step - loss: 0.2976 - accuracy: 0.9023 - val_loss: 0.3348 - val_accuracy: 0.8649\n",
            "Epoch 3/20\n",
            "30/30 [==============================] - 1s 33ms/step - loss: 0.2157 - accuracy: 0.9316 - val_loss: 0.3268 - val_accuracy: 0.8669\n",
            "Epoch 4/20\n",
            "30/30 [==============================] - 1s 37ms/step - loss: 0.1721 - accuracy: 0.9460 - val_loss: 0.2923 - val_accuracy: 0.8822\n",
            "Epoch 5/20\n",
            "30/30 [==============================] - 1s 42ms/step - loss: 0.1399 - accuracy: 0.9552 - val_loss: 0.2824 - val_accuracy: 0.8905\n",
            "Epoch 6/20\n",
            "30/30 [==============================] - 2s 53ms/step - loss: 0.1135 - accuracy: 0.9659 - val_loss: 0.2962 - val_accuracy: 0.8865\n",
            "Epoch 7/20\n",
            "30/30 [==============================] - 1s 46ms/step - loss: 0.0947 - accuracy: 0.9723 - val_loss: 0.3138 - val_accuracy: 0.8860\n",
            "Epoch 8/20\n",
            "30/30 [==============================] - 1s 34ms/step - loss: 0.0770 - accuracy: 0.9787 - val_loss: 0.3451 - val_accuracy: 0.8814\n",
            "Epoch 9/20\n",
            "30/30 [==============================] - 1s 33ms/step - loss: 0.0616 - accuracy: 0.9849 - val_loss: 0.3631 - val_accuracy: 0.8804\n",
            "Epoch 10/20\n",
            "30/30 [==============================] - 1s 33ms/step - loss: 0.0506 - accuracy: 0.9879 - val_loss: 0.4215 - val_accuracy: 0.8672\n",
            "Epoch 11/20\n",
            "30/30 [==============================] - 1s 36ms/step - loss: 0.0404 - accuracy: 0.9911 - val_loss: 0.4395 - val_accuracy: 0.8715\n",
            "Epoch 12/20\n",
            "30/30 [==============================] - 1s 33ms/step - loss: 0.0320 - accuracy: 0.9929 - val_loss: 0.5243 - val_accuracy: 0.8592\n",
            "Epoch 13/20\n",
            "30/30 [==============================] - 1s 33ms/step - loss: 0.0236 - accuracy: 0.9959 - val_loss: 0.5256 - val_accuracy: 0.8632\n",
            "Epoch 14/20\n",
            "30/30 [==============================] - 1s 35ms/step - loss: 0.0220 - accuracy: 0.9957 - val_loss: 0.5100 - val_accuracy: 0.8723\n",
            "Epoch 15/20\n",
            "30/30 [==============================] - 1s 34ms/step - loss: 0.0195 - accuracy: 0.9958 - val_loss: 0.5346 - val_accuracy: 0.8687\n",
            "Epoch 16/20\n",
            "30/30 [==============================] - 1s 33ms/step - loss: 0.0102 - accuracy: 0.9990 - val_loss: 0.5722 - val_accuracy: 0.8671\n",
            "Epoch 17/20\n",
            "30/30 [==============================] - 1s 32ms/step - loss: 0.0142 - accuracy: 0.9966 - val_loss: 0.6047 - val_accuracy: 0.8664\n",
            "Epoch 18/20\n",
            "30/30 [==============================] - 1s 34ms/step - loss: 0.0060 - accuracy: 0.9993 - val_loss: 0.6442 - val_accuracy: 0.8648\n",
            "Epoch 19/20\n",
            "30/30 [==============================] - 1s 33ms/step - loss: 0.0099 - accuracy: 0.9981 - val_loss: 0.6695 - val_accuracy: 0.8673\n",
            "Epoch 20/20\n",
            "30/30 [==============================] - 1s 34ms/step - loss: 0.0036 - accuracy: 0.9998 - val_loss: 0.7042 - val_accuracy: 0.8648\n"
          ]
        }
      ],
      "source": [
        "from tensorflow.keras.datasets import imdb\n",
        "(train_data, train_labels), _ = imdb.load_data(num_words=10000)\n",
        "\n",
        "def vectorize_sequences(sequences, dimension=10000):\n",
        "    results = np.zeros((len(sequences), dimension))\n",
        "    for i, sequence in enumerate(sequences):\n",
        "        results[i, sequence] = 1.\n",
        "    return results\n",
        "train_data = vectorize_sequences(train_data)\n",
        "\n",
        "model = keras.Sequential([\n",
        "    layers.Dense(16, activation=\"relu\"),\n",
        "    layers.Dense(16, activation=\"relu\"),\n",
        "    layers.Dense(1, activation=\"sigmoid\")\n",
        "])\n",
        "model.compile(optimizer=\"rmsprop\",\n",
        "              loss=\"binary_crossentropy\",\n",
        "              metrics=[\"accuracy\"])\n",
        "history_original = model.fit(train_data, train_labels,\n",
        "                             epochs=20, batch_size=512, validation_split=0.4)"
      ]
    },
    {
      "cell_type": "markdown",
      "metadata": {
        "id": "ZQWDD6CwURWm"
      },
      "source": [
        "**Version of the model with lower capacity**"
      ]
    },
    {
      "cell_type": "code",
      "execution_count": null,
      "metadata": {
        "colab": {
          "base_uri": "https://localhost:8080/"
        },
        "id": "YUuVNUvLURWm",
        "outputId": "8aed1664-5e9a-444d-ee49-941110118821"
      },
      "outputs": [
        {
          "output_type": "stream",
          "name": "stdout",
          "text": [
            "Epoch 1/20\n",
            "30/30 [==============================] - 2s 61ms/step - loss: 0.6571 - accuracy: 0.6046 - val_loss: 0.6244 - val_accuracy: 0.6790\n",
            "Epoch 2/20\n",
            "30/30 [==============================] - 1s 32ms/step - loss: 0.5985 - accuracy: 0.7286 - val_loss: 0.5819 - val_accuracy: 0.7479\n",
            "Epoch 3/20\n",
            "30/30 [==============================] - 1s 30ms/step - loss: 0.5547 - accuracy: 0.7863 - val_loss: 0.5493 - val_accuracy: 0.7586\n",
            "Epoch 4/20\n",
            "30/30 [==============================] - 1s 35ms/step - loss: 0.5184 - accuracy: 0.8239 - val_loss: 0.5208 - val_accuracy: 0.8164\n",
            "Epoch 5/20\n",
            "30/30 [==============================] - 1s 31ms/step - loss: 0.4876 - accuracy: 0.8561 - val_loss: 0.4986 - val_accuracy: 0.8289\n",
            "Epoch 6/20\n",
            "30/30 [==============================] - 1s 30ms/step - loss: 0.4616 - accuracy: 0.8766 - val_loss: 0.4812 - val_accuracy: 0.8454\n",
            "Epoch 7/20\n",
            "30/30 [==============================] - 1s 34ms/step - loss: 0.4392 - accuracy: 0.8933 - val_loss: 0.4656 - val_accuracy: 0.8587\n",
            "Epoch 8/20\n",
            "30/30 [==============================] - 1s 31ms/step - loss: 0.4188 - accuracy: 0.9081 - val_loss: 0.4685 - val_accuracy: 0.8234\n",
            "Epoch 9/20\n",
            "30/30 [==============================] - 1s 30ms/step - loss: 0.4010 - accuracy: 0.9177 - val_loss: 0.4529 - val_accuracy: 0.8458\n",
            "Epoch 10/20\n",
            "30/30 [==============================] - 1s 31ms/step - loss: 0.3844 - accuracy: 0.9301 - val_loss: 0.4569 - val_accuracy: 0.8354\n",
            "Epoch 11/20\n",
            "30/30 [==============================] - 1s 34ms/step - loss: 0.3694 - accuracy: 0.9369 - val_loss: 0.4363 - val_accuracy: 0.8590\n",
            "Epoch 12/20\n",
            "30/30 [==============================] - 1s 34ms/step - loss: 0.3553 - accuracy: 0.9435 - val_loss: 0.4307 - val_accuracy: 0.8672\n",
            "Epoch 13/20\n",
            "30/30 [==============================] - 1s 34ms/step - loss: 0.3421 - accuracy: 0.9499 - val_loss: 0.4257 - val_accuracy: 0.8694\n",
            "Epoch 14/20\n",
            "30/30 [==============================] - 1s 31ms/step - loss: 0.3300 - accuracy: 0.9564 - val_loss: 0.4318 - val_accuracy: 0.8645\n",
            "Epoch 15/20\n",
            "30/30 [==============================] - 1s 32ms/step - loss: 0.3183 - accuracy: 0.9614 - val_loss: 0.4194 - val_accuracy: 0.8757\n",
            "Epoch 16/20\n",
            "30/30 [==============================] - 1s 31ms/step - loss: 0.3077 - accuracy: 0.9647 - val_loss: 0.4268 - val_accuracy: 0.8693\n",
            "Epoch 17/20\n",
            "30/30 [==============================] - 1s 31ms/step - loss: 0.2974 - accuracy: 0.9681 - val_loss: 0.4223 - val_accuracy: 0.8745\n",
            "Epoch 18/20\n",
            "30/30 [==============================] - 1s 31ms/step - loss: 0.2878 - accuracy: 0.9700 - val_loss: 0.4238 - val_accuracy: 0.8758\n",
            "Epoch 19/20\n",
            "30/30 [==============================] - 1s 31ms/step - loss: 0.2787 - accuracy: 0.9737 - val_loss: 0.4321 - val_accuracy: 0.8703\n",
            "Epoch 20/20\n",
            "30/30 [==============================] - 1s 34ms/step - loss: 0.2700 - accuracy: 0.9759 - val_loss: 0.4293 - val_accuracy: 0.8721\n"
          ]
        }
      ],
      "source": [
        "model = keras.Sequential([\n",
        "    layers.Dense(4, activation=\"relu\"),\n",
        "    layers.Dense(4, activation=\"relu\"),\n",
        "    layers.Dense(1, activation=\"sigmoid\")\n",
        "])\n",
        "model.compile(optimizer=\"rmsprop\",\n",
        "              loss=\"binary_crossentropy\",\n",
        "              metrics=[\"accuracy\"])\n",
        "history_smaller_model = model.fit(\n",
        "    train_data, train_labels,\n",
        "    epochs=20, batch_size=512, validation_split=0.4)"
      ]
    },
    {
      "cell_type": "markdown",
      "metadata": {
        "id": "OnK8yWYKURWn"
      },
      "source": [
        "**Version of the model with higher capacity**"
      ]
    },
    {
      "cell_type": "code",
      "execution_count": null,
      "metadata": {
        "colab": {
          "base_uri": "https://localhost:8080/"
        },
        "id": "1TydtTItURWn",
        "outputId": "1c757544-daac-4fc0-8b3a-4fc7f0432b44"
      },
      "outputs": [
        {
          "output_type": "stream",
          "name": "stdout",
          "text": [
            "Epoch 1/20\n",
            "30/30 [==============================] - 10s 299ms/step - loss: 0.5526 - accuracy: 0.7489 - val_loss: 0.3408 - val_accuracy: 0.8832\n",
            "Epoch 2/20\n",
            "30/30 [==============================] - 9s 292ms/step - loss: 0.2624 - accuracy: 0.9008 - val_loss: 0.2656 - val_accuracy: 0.8961\n",
            "Epoch 3/20\n",
            "30/30 [==============================] - 9s 291ms/step - loss: 0.1581 - accuracy: 0.9400 - val_loss: 0.3289 - val_accuracy: 0.8814\n",
            "Epoch 4/20\n",
            "30/30 [==============================] - 9s 293ms/step - loss: 0.0888 - accuracy: 0.9697 - val_loss: 0.3709 - val_accuracy: 0.8915\n",
            "Epoch 5/20\n",
            "30/30 [==============================] - 9s 292ms/step - loss: 0.1075 - accuracy: 0.9755 - val_loss: 0.3932 - val_accuracy: 0.8897\n",
            "Epoch 6/20\n",
            "30/30 [==============================] - 9s 296ms/step - loss: 0.0047 - accuracy: 0.9994 - val_loss: 0.5215 - val_accuracy: 0.8877\n",
            "Epoch 7/20\n",
            "30/30 [==============================] - 10s 326ms/step - loss: 0.0864 - accuracy: 0.9883 - val_loss: 0.4655 - val_accuracy: 0.8756\n",
            "Epoch 8/20\n",
            "30/30 [==============================] - 9s 290ms/step - loss: 0.0017 - accuracy: 0.9999 - val_loss: 0.5628 - val_accuracy: 0.8858\n",
            "Epoch 9/20\n",
            "30/30 [==============================] - 9s 292ms/step - loss: 2.9353e-04 - accuracy: 1.0000 - val_loss: 0.6649 - val_accuracy: 0.8859\n",
            "Epoch 10/20\n",
            "30/30 [==============================] - 9s 292ms/step - loss: 7.2577e-05 - accuracy: 1.0000 - val_loss: 0.7617 - val_accuracy: 0.8850\n",
            "Epoch 11/20\n",
            "30/30 [==============================] - 9s 293ms/step - loss: 1.8875e-05 - accuracy: 1.0000 - val_loss: 0.8533 - val_accuracy: 0.8852\n",
            "Epoch 12/20\n",
            "30/30 [==============================] - 9s 291ms/step - loss: 5.2633e-06 - accuracy: 1.0000 - val_loss: 0.9571 - val_accuracy: 0.8835\n",
            "Epoch 13/20\n",
            "30/30 [==============================] - 9s 292ms/step - loss: 1.5734e-06 - accuracy: 1.0000 - val_loss: 1.0341 - val_accuracy: 0.8837\n",
            "Epoch 14/20\n",
            "30/30 [==============================] - 9s 292ms/step - loss: 5.1734e-07 - accuracy: 1.0000 - val_loss: 1.1099 - val_accuracy: 0.8846\n",
            "Epoch 15/20\n",
            "30/30 [==============================] - 9s 289ms/step - loss: 1.8981e-07 - accuracy: 1.0000 - val_loss: 1.1806 - val_accuracy: 0.8848\n",
            "Epoch 16/20\n",
            "30/30 [==============================] - 9s 292ms/step - loss: 7.7519e-08 - accuracy: 1.0000 - val_loss: 1.2468 - val_accuracy: 0.8836\n",
            "Epoch 17/20\n",
            "30/30 [==============================] - 9s 291ms/step - loss: 3.6720e-08 - accuracy: 1.0000 - val_loss: 1.2947 - val_accuracy: 0.8838\n",
            "Epoch 18/20\n",
            "30/30 [==============================] - 9s 291ms/step - loss: 2.2028e-08 - accuracy: 1.0000 - val_loss: 1.3211 - val_accuracy: 0.8845\n",
            "Epoch 19/20\n",
            "30/30 [==============================] - 9s 291ms/step - loss: 1.5583e-08 - accuracy: 1.0000 - val_loss: 1.3449 - val_accuracy: 0.8838\n",
            "Epoch 20/20\n",
            "30/30 [==============================] - 9s 291ms/step - loss: 1.1994e-08 - accuracy: 1.0000 - val_loss: 1.3605 - val_accuracy: 0.8845\n"
          ]
        }
      ],
      "source": [
        "model = keras.Sequential([\n",
        "    layers.Dense(512, activation=\"relu\"),\n",
        "    layers.Dense(512, activation=\"relu\"),\n",
        "    layers.Dense(1, activation=\"sigmoid\")\n",
        "])\n",
        "model.compile(optimizer=\"rmsprop\",\n",
        "              loss=\"binary_crossentropy\",\n",
        "              metrics=[\"accuracy\"])\n",
        "history_larger_model = model.fit(\n",
        "    train_data, train_labels,\n",
        "    epochs=20, batch_size=512, validation_split=0.4)"
      ]
    },
    {
      "cell_type": "markdown",
      "metadata": {
        "id": "vEJJO5RkURWn"
      },
      "source": [
        "#### Adding weight regularization"
      ]
    },
    {
      "cell_type": "markdown",
      "metadata": {
        "id": "H2_y3RnZURWn"
      },
      "source": [
        "**Adding L2 weight regularization to the model**"
      ]
    },
    {
      "cell_type": "code",
      "execution_count": null,
      "metadata": {
        "colab": {
          "base_uri": "https://localhost:8080/"
        },
        "id": "ClrMLkn0URWn",
        "outputId": "85fd4f0c-6ccd-485a-eda1-ea766ce1f945"
      },
      "outputs": [
        {
          "output_type": "stream",
          "name": "stdout",
          "text": [
            "Epoch 1/20\n",
            "30/30 [==============================] - 2s 50ms/step - loss: 0.5749 - accuracy: 0.7915 - val_loss: 0.4462 - val_accuracy: 0.8685\n",
            "Epoch 2/20\n",
            "30/30 [==============================] - 1s 36ms/step - loss: 0.3839 - accuracy: 0.8963 - val_loss: 0.3879 - val_accuracy: 0.8807\n",
            "Epoch 3/20\n",
            "30/30 [==============================] - 1s 36ms/step - loss: 0.3242 - accuracy: 0.9153 - val_loss: 0.3755 - val_accuracy: 0.8792\n",
            "Epoch 4/20\n",
            "30/30 [==============================] - 1s 36ms/step - loss: 0.2879 - accuracy: 0.9285 - val_loss: 0.3609 - val_accuracy: 0.8850\n",
            "Epoch 5/20\n",
            "30/30 [==============================] - 1s 36ms/step - loss: 0.2770 - accuracy: 0.9281 - val_loss: 0.3543 - val_accuracy: 0.8885\n",
            "Epoch 6/20\n",
            "30/30 [==============================] - 1s 35ms/step - loss: 0.2574 - accuracy: 0.9402 - val_loss: 0.3788 - val_accuracy: 0.8778\n",
            "Epoch 7/20\n",
            "30/30 [==============================] - 1s 36ms/step - loss: 0.2508 - accuracy: 0.9397 - val_loss: 0.3629 - val_accuracy: 0.8834\n",
            "Epoch 8/20\n",
            "30/30 [==============================] - 1s 35ms/step - loss: 0.2426 - accuracy: 0.9435 - val_loss: 0.3830 - val_accuracy: 0.8771\n",
            "Epoch 9/20\n",
            "30/30 [==============================] - 1s 36ms/step - loss: 0.2343 - accuracy: 0.9482 - val_loss: 0.3779 - val_accuracy: 0.8808\n",
            "Epoch 10/20\n",
            "30/30 [==============================] - 1s 36ms/step - loss: 0.2285 - accuracy: 0.9503 - val_loss: 0.3743 - val_accuracy: 0.8795\n",
            "Epoch 11/20\n",
            "30/30 [==============================] - 1s 36ms/step - loss: 0.2270 - accuracy: 0.9514 - val_loss: 0.3853 - val_accuracy: 0.8781\n",
            "Epoch 12/20\n",
            "30/30 [==============================] - 1s 36ms/step - loss: 0.2278 - accuracy: 0.9476 - val_loss: 0.3911 - val_accuracy: 0.8767\n",
            "Epoch 13/20\n",
            "30/30 [==============================] - 1s 36ms/step - loss: 0.2149 - accuracy: 0.9554 - val_loss: 0.4146 - val_accuracy: 0.8720\n",
            "Epoch 14/20\n",
            "30/30 [==============================] - 1s 36ms/step - loss: 0.2151 - accuracy: 0.9553 - val_loss: 0.4082 - val_accuracy: 0.8747\n",
            "Epoch 15/20\n",
            "30/30 [==============================] - 1s 36ms/step - loss: 0.2154 - accuracy: 0.9532 - val_loss: 0.4174 - val_accuracy: 0.8696\n",
            "Epoch 16/20\n",
            "30/30 [==============================] - 1s 36ms/step - loss: 0.2096 - accuracy: 0.9569 - val_loss: 0.4587 - val_accuracy: 0.8571\n",
            "Epoch 17/20\n",
            "30/30 [==============================] - 1s 35ms/step - loss: 0.2119 - accuracy: 0.9542 - val_loss: 0.4427 - val_accuracy: 0.8673\n",
            "Epoch 18/20\n",
            "30/30 [==============================] - 1s 36ms/step - loss: 0.2011 - accuracy: 0.9599 - val_loss: 0.4246 - val_accuracy: 0.8708\n",
            "Epoch 19/20\n",
            "30/30 [==============================] - 1s 35ms/step - loss: 0.2077 - accuracy: 0.9541 - val_loss: 0.4168 - val_accuracy: 0.8751\n",
            "Epoch 20/20\n",
            "30/30 [==============================] - 1s 35ms/step - loss: 0.2065 - accuracy: 0.9555 - val_loss: 0.4278 - val_accuracy: 0.8726\n"
          ]
        }
      ],
      "source": [
        "from tensorflow.keras import regularizers\n",
        "model = keras.Sequential([\n",
        "    layers.Dense(16,\n",
        "                 kernel_regularizer=regularizers.l2(0.002),\n",
        "                 activation=\"relu\"),\n",
        "    layers.Dense(16,\n",
        "                 kernel_regularizer=regularizers.l2(0.002),\n",
        "                 activation=\"relu\"),\n",
        "    layers.Dense(1, activation=\"sigmoid\")\n",
        "])\n",
        "model.compile(optimizer=\"rmsprop\",\n",
        "              loss=\"binary_crossentropy\",\n",
        "              metrics=[\"accuracy\"])\n",
        "history_l2_reg = model.fit(\n",
        "    train_data, train_labels,\n",
        "    epochs=20, batch_size=512, validation_split=0.4)"
      ]
    },
    {
      "cell_type": "markdown",
      "metadata": {
        "id": "lGEIgxJcURWn"
      },
      "source": [
        "**Different weight regularizers available in Keras**"
      ]
    },
    {
      "cell_type": "code",
      "execution_count": null,
      "metadata": {
        "colab": {
          "base_uri": "https://localhost:8080/"
        },
        "id": "EzcKXQwcURWn",
        "outputId": "4ac612dc-e723-4f7f-b40d-5035956bf1c4"
      },
      "outputs": [
        {
          "output_type": "execute_result",
          "data": {
            "text/plain": [
              "<keras.regularizers.L1L2 at 0x7f9589055710>"
            ]
          },
          "metadata": {},
          "execution_count": 18
        }
      ],
      "source": [
        "from tensorflow.keras import regularizers\n",
        "regularizers.l1(0.001)\n",
        "regularizers.l1_l2(l1=0.001, l2=0.001)"
      ]
    },
    {
      "cell_type": "markdown",
      "metadata": {
        "id": "fHD6tEVTURWo"
      },
      "source": [
        "#### Adding dropout"
      ]
    },
    {
      "cell_type": "markdown",
      "metadata": {
        "id": "qB9QUsZRURWo"
      },
      "source": [
        "**Adding dropout to the IMDB model**"
      ]
    },
    {
      "cell_type": "code",
      "execution_count": null,
      "metadata": {
        "colab": {
          "base_uri": "https://localhost:8080/"
        },
        "id": "MyP6urdyURWo",
        "outputId": "a3054948-b64f-427c-9b97-5867154a7d16"
      },
      "outputs": [
        {
          "output_type": "stream",
          "name": "stdout",
          "text": [
            "Epoch 1/2\n",
            "30/30 [==============================] - 2s 45ms/step - loss: 0.6423 - accuracy: 0.6189 - val_loss: 0.5405 - val_accuracy: 0.8483\n",
            "Epoch 2/2\n",
            "30/30 [==============================] - 1s 35ms/step - loss: 0.5365 - accuracy: 0.7399 - val_loss: 0.4179 - val_accuracy: 0.8708\n"
          ]
        }
      ],
      "source": [
        "model = keras.Sequential([\n",
        "    layers.Dense(16, activation=\"relu\"),\n",
        "    layers.Dropout(0.5),\n",
        "    layers.Dense(16, activation=\"relu\"),\n",
        "    layers.Dropout(0.5),\n",
        "    layers.Dense(1, activation=\"sigmoid\")\n",
        "])\n",
        "model.compile(optimizer=\"rmsprop\",\n",
        "              loss=\"binary_crossentropy\",\n",
        "              metrics=[\"accuracy\"])\n",
        "history_dropout = model.fit(\n",
        "    train_data, train_labels,\n",
        "    epochs=2, batch_size=512, validation_split=0.4)"
      ]
    },
    {
      "cell_type": "markdown",
      "metadata": {
        "id": "RCV6s3LMURWo"
      },
      "source": [
        "## Summary"
      ]
    }
  ],
  "metadata": {
    "colab": {
      "collapsed_sections": [],
      "provenance": [],
      "include_colab_link": true
    },
    "kernelspec": {
      "display_name": "Python 3",
      "language": "python",
      "name": "python3"
    },
    "language_info": {
      "codemirror_mode": {
        "name": "ipython",
        "version": 3
      },
      "file_extension": ".py",
      "mimetype": "text/x-python",
      "name": "python",
      "nbconvert_exporter": "python",
      "pygments_lexer": "ipython3",
      "version": "3.7.0"
    }
  },
  "nbformat": 4,
  "nbformat_minor": 0
}