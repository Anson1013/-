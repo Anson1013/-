{
  "cells": [
    {
      "cell_type": "markdown",
      "metadata": {
        "id": "view-in-github",
        "colab_type": "text"
      },
      "source": [
        "<a href=\"https://colab.research.google.com/github/Anson1013/HW/blob/main/chapter11_part03_transformer.ipynb\" target=\"_parent\"><img src=\"https://colab.research.google.com/assets/colab-badge.svg\" alt=\"Open In Colab\"/></a>"
      ]
    },
    {
      "cell_type": "markdown",
      "metadata": {
        "id": "KmKmtplWlv9e"
      },
      "source": [
        "This is a companion notebook for the book [Deep Learning with Python, Second Edition](https://www.manning.com/books/deep-learning-with-python-second-edition?a_aid=keras&a_bid=76564dff). For readability, it only contains runnable code blocks and section titles, and omits everything else in the book: text paragraphs, figures, and pseudocode.\n",
        "\n",
        "**If you want to be able to follow what's going on, I recommend reading the notebook side by side with your copy of the book.**\n",
        "\n",
        "This notebook was generated for TensorFlow 2.6."
      ]
    },
    {
      "cell_type": "markdown",
      "metadata": {
        "id": "mvbalICNlv9f"
      },
      "source": [
        "## The Transformer architecture"
      ]
    },
    {
      "cell_type": "markdown",
      "metadata": {
        "id": "7dU5PKgMlv9g"
      },
      "source": [
        "### Understanding self-attention"
      ]
    },
    {
      "cell_type": "markdown",
      "metadata": {
        "id": "Entn8P4Glv9g"
      },
      "source": [
        "#### Generalized self-attention: the query-key-value model"
      ]
    },
    {
      "cell_type": "markdown",
      "metadata": {
        "id": "fWlPHNTnlv9g"
      },
      "source": [
        "### Multi-head attention"
      ]
    },
    {
      "cell_type": "markdown",
      "metadata": {
        "id": "qoG1RCtOlv9g"
      },
      "source": [
        "### The Transformer encoder"
      ]
    },
    {
      "cell_type": "markdown",
      "metadata": {
        "id": "MEm3wln_lv9h"
      },
      "source": [
        "**Getting the data**"
      ]
    },
    {
      "cell_type": "code",
      "execution_count": 1,
      "metadata": {
        "colab": {
          "base_uri": "https://localhost:8080/"
        },
        "id": "bra3xyPAlv9h",
        "outputId": "2ab34150-0be5-43b8-f8c7-e18ccb1902c2"
      },
      "outputs": [
        {
          "output_type": "stream",
          "name": "stdout",
          "text": [
            "  % Total    % Received % Xferd  Average Speed   Time    Time     Time  Current\n",
            "                                 Dload  Upload   Total   Spent    Left  Speed\n",
            "100 80.2M  100 80.2M    0     0  9512k      0  0:00:08  0:00:08 --:--:-- 17.0M\n"
          ]
        }
      ],
      "source": [
        "!curl -O https://ai.stanford.edu/~amaas/data/sentiment/aclImdb_v1.tar.gz\n",
        "!tar -xf aclImdb_v1.tar.gz\n",
        "!rm -r aclImdb/train/unsup"
      ]
    },
    {
      "cell_type": "markdown",
      "metadata": {
        "id": "2I0trfoVlv9i"
      },
      "source": [
        "**Preparing the data**"
      ]
    },
    {
      "cell_type": "code",
      "execution_count": 2,
      "metadata": {
        "colab": {
          "base_uri": "https://localhost:8080/"
        },
        "id": "saKtnDeplv9i",
        "outputId": "88b28813-b05a-417c-d357-543073cd5cd1"
      },
      "outputs": [
        {
          "output_type": "stream",
          "name": "stdout",
          "text": [
            "Found 20000 files belonging to 2 classes.\n",
            "Found 5000 files belonging to 2 classes.\n",
            "Found 25000 files belonging to 2 classes.\n"
          ]
        }
      ],
      "source": [
        "import os, pathlib, shutil, random\n",
        "from tensorflow import keras\n",
        "batch_size = 32\n",
        "base_dir = pathlib.Path(\"aclImdb\")\n",
        "val_dir = base_dir / \"val\"\n",
        "train_dir = base_dir / \"train\"\n",
        "for category in (\"neg\", \"pos\"):\n",
        "    os.makedirs(val_dir / category)\n",
        "    files = os.listdir(train_dir / category)\n",
        "    random.Random(1337).shuffle(files)\n",
        "    num_val_samples = int(0.2 * len(files))\n",
        "    val_files = files[-num_val_samples:]\n",
        "    for fname in val_files:\n",
        "        shutil.move(train_dir / category / fname,\n",
        "                    val_dir / category / fname)\n",
        "\n",
        "train_ds = keras.utils.text_dataset_from_directory(\n",
        "    \"aclImdb/train\", batch_size=batch_size\n",
        ")\n",
        "val_ds = keras.utils.text_dataset_from_directory(\n",
        "    \"aclImdb/val\", batch_size=batch_size\n",
        ")\n",
        "test_ds = keras.utils.text_dataset_from_directory(\n",
        "    \"aclImdb/test\", batch_size=batch_size\n",
        ")\n",
        "text_only_train_ds = train_ds.map(lambda x, y: x)"
      ]
    },
    {
      "cell_type": "markdown",
      "metadata": {
        "id": "AqbeL5BQlv9j"
      },
      "source": [
        "**Vectorizing the data**"
      ]
    },
    {
      "cell_type": "code",
      "execution_count": 3,
      "metadata": {
        "id": "h5cye5Belv9j"
      },
      "outputs": [],
      "source": [
        "from tensorflow.keras import layers\n",
        "\n",
        "max_length = 600\n",
        "max_tokens = 20000\n",
        "text_vectorization = layers.TextVectorization(\n",
        "    max_tokens=max_tokens,\n",
        "    output_mode=\"int\",\n",
        "    output_sequence_length=max_length,\n",
        ")\n",
        "text_vectorization.adapt(text_only_train_ds)\n",
        "\n",
        "int_train_ds = train_ds.map(\n",
        "    lambda x, y: (text_vectorization(x), y),\n",
        "    num_parallel_calls=4)\n",
        "int_val_ds = val_ds.map(\n",
        "    lambda x, y: (text_vectorization(x), y),\n",
        "    num_parallel_calls=4)\n",
        "int_test_ds = test_ds.map(\n",
        "    lambda x, y: (text_vectorization(x), y),\n",
        "    num_parallel_calls=4)"
      ]
    },
    {
      "cell_type": "markdown",
      "metadata": {
        "id": "e-QVB_aFlv9k"
      },
      "source": [
        "**Transformer encoder implemented as a subclassed `Layer`**"
      ]
    },
    {
      "cell_type": "code",
      "execution_count": 4,
      "metadata": {
        "id": "WXbdAPmzlv9l"
      },
      "outputs": [],
      "source": [
        "import tensorflow as tf\n",
        "from tensorflow import keras\n",
        "from tensorflow.keras import layers\n",
        "\n",
        "class TransformerEncoder(layers.Layer):\n",
        "    def __init__(self, embed_dim, dense_dim, num_heads, **kwargs):\n",
        "        super().__init__(**kwargs)\n",
        "        self.embed_dim = embed_dim\n",
        "        self.dense_dim = dense_dim\n",
        "        self.num_heads = num_heads\n",
        "        self.attention = layers.MultiHeadAttention(\n",
        "            num_heads=num_heads, key_dim=embed_dim)\n",
        "        self.dense_proj = keras.Sequential(\n",
        "            [layers.Dense(dense_dim, activation=\"relu\"),\n",
        "             layers.Dense(embed_dim),]\n",
        "        )\n",
        "        self.layernorm_1 = layers.LayerNormalization()\n",
        "        self.layernorm_2 = layers.LayerNormalization()\n",
        "\n",
        "    def call(self, inputs, mask=None):\n",
        "        if mask is not None:\n",
        "            mask = mask[:, tf.newaxis, :]\n",
        "        attention_output = self.attention(\n",
        "            inputs, inputs, attention_mask=mask)\n",
        "        proj_input = self.layernorm_1(inputs + attention_output)\n",
        "        proj_output = self.dense_proj(proj_input)\n",
        "        return self.layernorm_2(proj_input + proj_output)\n",
        "\n",
        "    def get_config(self):\n",
        "        config = super().get_config()\n",
        "        config.update({\n",
        "            \"embed_dim\": self.embed_dim,\n",
        "            \"num_heads\": self.num_heads,\n",
        "            \"dense_dim\": self.dense_dim,\n",
        "        })\n",
        "        return config"
      ]
    },
    {
      "cell_type": "markdown",
      "metadata": {
        "id": "pZpb9DExlv9l"
      },
      "source": [
        "**Using the Transformer encoder for text classification**"
      ]
    },
    {
      "cell_type": "code",
      "execution_count": 5,
      "metadata": {
        "colab": {
          "base_uri": "https://localhost:8080/"
        },
        "id": "exNPWKGelv9l",
        "outputId": "a3dc18c6-d9cc-4647-bd79-db79ea538c92"
      },
      "outputs": [
        {
          "output_type": "stream",
          "name": "stdout",
          "text": [
            "Model: \"model\"\n",
            "_________________________________________________________________\n",
            " Layer (type)                Output Shape              Param #   \n",
            "=================================================================\n",
            " input_1 (InputLayer)        [(None, None)]            0         \n",
            "                                                                 \n",
            " embedding (Embedding)       (None, None, 256)         5120000   \n",
            "                                                                 \n",
            " transformer_encoder (Transf  (None, None, 256)        543776    \n",
            " ormerEncoder)                                                   \n",
            "                                                                 \n",
            " global_max_pooling1d (Globa  (None, 256)              0         \n",
            " lMaxPooling1D)                                                  \n",
            "                                                                 \n",
            " dropout (Dropout)           (None, 256)               0         \n",
            "                                                                 \n",
            " dense_2 (Dense)             (None, 1)                 257       \n",
            "                                                                 \n",
            "=================================================================\n",
            "Total params: 5,664,033\n",
            "Trainable params: 5,664,033\n",
            "Non-trainable params: 0\n",
            "_________________________________________________________________\n"
          ]
        }
      ],
      "source": [
        "vocab_size = 20000\n",
        "embed_dim = 256\n",
        "num_heads = 2\n",
        "dense_dim = 32\n",
        "\n",
        "inputs = keras.Input(shape=(None,), dtype=\"int64\")\n",
        "x = layers.Embedding(vocab_size, embed_dim)(inputs)\n",
        "x = TransformerEncoder(embed_dim, dense_dim, num_heads)(x)\n",
        "x = layers.GlobalMaxPooling1D()(x)\n",
        "x = layers.Dropout(0.5)(x)\n",
        "outputs = layers.Dense(1, activation=\"sigmoid\")(x)\n",
        "model = keras.Model(inputs, outputs)\n",
        "model.compile(optimizer=\"rmsprop\",\n",
        "              loss=\"binary_crossentropy\",\n",
        "              metrics=[\"accuracy\"])\n",
        "model.summary()"
      ]
    },
    {
      "cell_type": "markdown",
      "metadata": {
        "id": "ll8AZt42lv9m"
      },
      "source": [
        "**Training and evaluating the Transformer encoder based model**"
      ]
    },
    {
      "cell_type": "code",
      "execution_count": 6,
      "metadata": {
        "colab": {
          "base_uri": "https://localhost:8080/"
        },
        "id": "sIV4yYBBlv9m",
        "outputId": "4ce9dd36-cdb4-4c93-bd81-c05278431638"
      },
      "outputs": [
        {
          "output_type": "stream",
          "name": "stdout",
          "text": [
            "Epoch 1/20\n",
            "625/625 [==============================] - 45s 63ms/step - loss: 0.4912 - accuracy: 0.7706 - val_loss: 0.3497 - val_accuracy: 0.8494\n",
            "Epoch 2/20\n",
            "625/625 [==============================] - 39s 63ms/step - loss: 0.3187 - accuracy: 0.8632 - val_loss: 0.2649 - val_accuracy: 0.8930\n",
            "Epoch 3/20\n",
            "625/625 [==============================] - 40s 63ms/step - loss: 0.2466 - accuracy: 0.8982 - val_loss: 0.3054 - val_accuracy: 0.8788\n",
            "Epoch 4/20\n",
            "625/625 [==============================] - 40s 64ms/step - loss: 0.1883 - accuracy: 0.9265 - val_loss: 0.2818 - val_accuracy: 0.8934\n",
            "Epoch 5/20\n",
            "625/625 [==============================] - 40s 64ms/step - loss: 0.1520 - accuracy: 0.9408 - val_loss: 0.2831 - val_accuracy: 0.8976\n",
            "Epoch 6/20\n",
            "625/625 [==============================] - 40s 65ms/step - loss: 0.1263 - accuracy: 0.9530 - val_loss: 0.3593 - val_accuracy: 0.8860\n",
            "Epoch 7/20\n",
            "625/625 [==============================] - 40s 65ms/step - loss: 0.1097 - accuracy: 0.9585 - val_loss: 0.3661 - val_accuracy: 0.8898\n",
            "Epoch 8/20\n",
            "625/625 [==============================] - 41s 65ms/step - loss: 0.0910 - accuracy: 0.9653 - val_loss: 0.5039 - val_accuracy: 0.8718\n",
            "Epoch 9/20\n",
            "625/625 [==============================] - 41s 65ms/step - loss: 0.0812 - accuracy: 0.9708 - val_loss: 0.4909 - val_accuracy: 0.8820\n",
            "Epoch 10/20\n",
            "625/625 [==============================] - 42s 68ms/step - loss: 0.0697 - accuracy: 0.9748 - val_loss: 0.4841 - val_accuracy: 0.8688\n",
            "Epoch 11/20\n",
            "625/625 [==============================] - 41s 65ms/step - loss: 0.0606 - accuracy: 0.9783 - val_loss: 0.6547 - val_accuracy: 0.8620\n",
            "Epoch 12/20\n",
            "625/625 [==============================] - 40s 65ms/step - loss: 0.0484 - accuracy: 0.9826 - val_loss: 1.0464 - val_accuracy: 0.8198\n",
            "Epoch 13/20\n",
            "625/625 [==============================] - 41s 65ms/step - loss: 0.0438 - accuracy: 0.9842 - val_loss: 0.6325 - val_accuracy: 0.8668\n",
            "Epoch 14/20\n",
            "625/625 [==============================] - 41s 65ms/step - loss: 0.0360 - accuracy: 0.9877 - val_loss: 0.8026 - val_accuracy: 0.8446\n",
            "Epoch 15/20\n",
            "625/625 [==============================] - 41s 65ms/step - loss: 0.0301 - accuracy: 0.9900 - val_loss: 0.7342 - val_accuracy: 0.8686\n",
            "Epoch 16/20\n",
            "625/625 [==============================] - 41s 65ms/step - loss: 0.0227 - accuracy: 0.9930 - val_loss: 0.8249 - val_accuracy: 0.8610\n",
            "Epoch 17/20\n",
            "625/625 [==============================] - 41s 65ms/step - loss: 0.0220 - accuracy: 0.9931 - val_loss: 0.9021 - val_accuracy: 0.8642\n",
            "Epoch 18/20\n",
            "625/625 [==============================] - 40s 65ms/step - loss: 0.0137 - accuracy: 0.9953 - val_loss: 0.9945 - val_accuracy: 0.8552\n",
            "Epoch 19/20\n",
            "625/625 [==============================] - 41s 65ms/step - loss: 0.0149 - accuracy: 0.9958 - val_loss: 1.0656 - val_accuracy: 0.8630\n",
            "Epoch 20/20\n",
            "625/625 [==============================] - 40s 64ms/step - loss: 0.0147 - accuracy: 0.9957 - val_loss: 0.9927 - val_accuracy: 0.8682\n",
            "782/782 [==============================] - 18s 23ms/step - loss: 0.2862 - accuracy: 0.8785\n",
            "Test acc: 0.879\n"
          ]
        }
      ],
      "source": [
        "callbacks = [\n",
        "    keras.callbacks.ModelCheckpoint(\"transformer_encoder.keras\",\n",
        "                                    save_best_only=True)\n",
        "]\n",
        "model.fit(int_train_ds, validation_data=int_val_ds, epochs=20, callbacks=callbacks)\n",
        "model = keras.models.load_model(\n",
        "    \"transformer_encoder.keras\",\n",
        "    custom_objects={\"TransformerEncoder\": TransformerEncoder})\n",
        "print(f\"Test acc: {model.evaluate(int_test_ds)[1]:.3f}\")"
      ]
    },
    {
      "cell_type": "markdown",
      "metadata": {
        "id": "Z73yHHcVlv9m"
      },
      "source": [
        "#### Using positional encoding to re-inject order information"
      ]
    },
    {
      "cell_type": "markdown",
      "metadata": {
        "id": "0cm_6QtJlv9m"
      },
      "source": [
        "**Implementing positional embedding as a subclassed layer**"
      ]
    },
    {
      "cell_type": "code",
      "execution_count": 7,
      "metadata": {
        "id": "X7u5oE2glv9m"
      },
      "outputs": [],
      "source": [
        "class PositionalEmbedding(layers.Layer):\n",
        "    def __init__(self, sequence_length, input_dim, output_dim, **kwargs):\n",
        "        super().__init__(**kwargs)\n",
        "        self.token_embeddings = layers.Embedding(\n",
        "            input_dim=input_dim, output_dim=output_dim)\n",
        "        self.position_embeddings = layers.Embedding(\n",
        "            input_dim=sequence_length, output_dim=output_dim)\n",
        "        self.sequence_length = sequence_length\n",
        "        self.input_dim = input_dim\n",
        "        self.output_dim = output_dim\n",
        "\n",
        "    def call(self, inputs):\n",
        "        length = tf.shape(inputs)[-1]\n",
        "        positions = tf.range(start=0, limit=length, delta=1)\n",
        "        embedded_tokens = self.token_embeddings(inputs)\n",
        "        embedded_positions = self.position_embeddings(positions)\n",
        "        return embedded_tokens + embedded_positions\n",
        "\n",
        "    def compute_mask(self, inputs, mask=None):\n",
        "        return tf.math.not_equal(inputs, 0)\n",
        "\n",
        "    def get_config(self):\n",
        "        config = super().get_config()\n",
        "        config.update({\n",
        "            \"output_dim\": self.output_dim,\n",
        "            \"sequence_length\": self.sequence_length,\n",
        "            \"input_dim\": self.input_dim,\n",
        "        })\n",
        "        return config"
      ]
    },
    {
      "cell_type": "markdown",
      "metadata": {
        "id": "E8F8gjZTlv9n"
      },
      "source": [
        "#### Putting it all together: A text-classification Transformer"
      ]
    },
    {
      "cell_type": "markdown",
      "metadata": {
        "id": "qIRddtsNlv9n"
      },
      "source": [
        "**Combining the Transformer encoder with positional embedding**"
      ]
    },
    {
      "cell_type": "code",
      "execution_count": 8,
      "metadata": {
        "colab": {
          "base_uri": "https://localhost:8080/"
        },
        "id": "O5VdUY_wlv9n",
        "outputId": "44dfcc87-d8cb-4976-b293-106797a1e123"
      },
      "outputs": [
        {
          "output_type": "stream",
          "name": "stdout",
          "text": [
            "Model: \"model_1\"\n",
            "_________________________________________________________________\n",
            " Layer (type)                Output Shape              Param #   \n",
            "=================================================================\n",
            " input_2 (InputLayer)        [(None, None)]            0         \n",
            "                                                                 \n",
            " positional_embedding (Posit  (None, None, 256)        5273600   \n",
            " ionalEmbedding)                                                 \n",
            "                                                                 \n",
            " transformer_encoder_1 (Tran  (None, None, 256)        543776    \n",
            " sformerEncoder)                                                 \n",
            "                                                                 \n",
            " global_max_pooling1d_1 (Glo  (None, 256)              0         \n",
            " balMaxPooling1D)                                                \n",
            "                                                                 \n",
            " dropout_1 (Dropout)         (None, 256)               0         \n",
            "                                                                 \n",
            " dense_7 (Dense)             (None, 1)                 257       \n",
            "                                                                 \n",
            "=================================================================\n",
            "Total params: 5,817,633\n",
            "Trainable params: 5,817,633\n",
            "Non-trainable params: 0\n",
            "_________________________________________________________________\n",
            "Epoch 1/20\n",
            "625/625 [==============================] - 44s 67ms/step - loss: 0.4877 - accuracy: 0.7783 - val_loss: 0.3485 - val_accuracy: 0.8488\n",
            "Epoch 2/20\n",
            "625/625 [==============================] - 42s 66ms/step - loss: 0.2340 - accuracy: 0.9083 - val_loss: 0.3050 - val_accuracy: 0.8784\n",
            "Epoch 3/20\n",
            "625/625 [==============================] - 42s 67ms/step - loss: 0.1816 - accuracy: 0.9322 - val_loss: 0.3025 - val_accuracy: 0.8782\n",
            "Epoch 4/20\n",
            "625/625 [==============================] - 42s 67ms/step - loss: 0.1458 - accuracy: 0.9469 - val_loss: 0.2799 - val_accuracy: 0.8966\n",
            "Epoch 5/20\n",
            "625/625 [==============================] - 41s 66ms/step - loss: 0.1227 - accuracy: 0.9558 - val_loss: 0.3734 - val_accuracy: 0.8966\n",
            "Epoch 6/20\n",
            "625/625 [==============================] - 41s 66ms/step - loss: 0.1078 - accuracy: 0.9625 - val_loss: 0.3238 - val_accuracy: 0.8930\n",
            "Epoch 7/20\n",
            "625/625 [==============================] - 42s 67ms/step - loss: 0.0924 - accuracy: 0.9679 - val_loss: 0.3487 - val_accuracy: 0.8916\n",
            "Epoch 8/20\n",
            "625/625 [==============================] - 42s 66ms/step - loss: 0.0820 - accuracy: 0.9725 - val_loss: 0.3612 - val_accuracy: 0.8862\n",
            "Epoch 9/20\n",
            "625/625 [==============================] - 41s 66ms/step - loss: 0.0707 - accuracy: 0.9769 - val_loss: 0.3756 - val_accuracy: 0.8844\n",
            "Epoch 10/20\n",
            "625/625 [==============================] - 42s 67ms/step - loss: 0.0644 - accuracy: 0.9787 - val_loss: 0.5267 - val_accuracy: 0.8872\n",
            "Epoch 11/20\n",
            "625/625 [==============================] - 41s 65ms/step - loss: 0.0547 - accuracy: 0.9829 - val_loss: 0.5475 - val_accuracy: 0.8840\n",
            "Epoch 12/20\n",
            "625/625 [==============================] - 42s 67ms/step - loss: 0.0506 - accuracy: 0.9845 - val_loss: 0.4990 - val_accuracy: 0.8824\n",
            "Epoch 13/20\n",
            "625/625 [==============================] - 42s 66ms/step - loss: 0.0468 - accuracy: 0.9860 - val_loss: 0.6853 - val_accuracy: 0.8770\n",
            "Epoch 14/20\n",
            "625/625 [==============================] - 42s 67ms/step - loss: 0.0422 - accuracy: 0.9872 - val_loss: 0.5304 - val_accuracy: 0.8782\n",
            "Epoch 15/20\n",
            "625/625 [==============================] - 42s 67ms/step - loss: 0.0400 - accuracy: 0.9883 - val_loss: 0.6259 - val_accuracy: 0.8778\n",
            "Epoch 16/20\n",
            "625/625 [==============================] - 42s 66ms/step - loss: 0.0355 - accuracy: 0.9891 - val_loss: 0.6594 - val_accuracy: 0.8816\n",
            "Epoch 17/20\n",
            "625/625 [==============================] - 41s 65ms/step - loss: 0.0312 - accuracy: 0.9906 - val_loss: 0.5617 - val_accuracy: 0.8756\n",
            "Epoch 18/20\n",
            "625/625 [==============================] - 42s 67ms/step - loss: 0.0269 - accuracy: 0.9920 - val_loss: 0.8886 - val_accuracy: 0.8714\n",
            "Epoch 19/20\n",
            "625/625 [==============================] - 42s 66ms/step - loss: 0.0268 - accuracy: 0.9926 - val_loss: 0.6588 - val_accuracy: 0.8750\n",
            "Epoch 20/20\n",
            "625/625 [==============================] - 41s 65ms/step - loss: 0.0244 - accuracy: 0.9930 - val_loss: 0.7768 - val_accuracy: 0.8784\n",
            "782/782 [==============================] - 25s 32ms/step - loss: 0.3417 - accuracy: 0.8710\n",
            "Test acc: 0.871\n"
          ]
        }
      ],
      "source": [
        "vocab_size = 20000\n",
        "sequence_length = 600\n",
        "embed_dim = 256\n",
        "num_heads = 2\n",
        "dense_dim = 32\n",
        "\n",
        "inputs = keras.Input(shape=(None,), dtype=\"int64\")\n",
        "x = PositionalEmbedding(sequence_length, vocab_size, embed_dim)(inputs)\n",
        "x = TransformerEncoder(embed_dim, dense_dim, num_heads)(x)\n",
        "x = layers.GlobalMaxPooling1D()(x)\n",
        "x = layers.Dropout(0.5)(x)\n",
        "outputs = layers.Dense(1, activation=\"sigmoid\")(x)\n",
        "model = keras.Model(inputs, outputs)\n",
        "model.compile(optimizer=\"rmsprop\",\n",
        "              loss=\"binary_crossentropy\",\n",
        "              metrics=[\"accuracy\"])\n",
        "model.summary()\n",
        "\n",
        "callbacks = [\n",
        "    keras.callbacks.ModelCheckpoint(\"full_transformer_encoder.keras\",\n",
        "                                    save_best_only=True)\n",
        "]\n",
        "model.fit(int_train_ds, validation_data=int_val_ds, epochs=20, callbacks=callbacks)\n",
        "model = keras.models.load_model(\n",
        "    \"full_transformer_encoder.keras\",\n",
        "    custom_objects={\"TransformerEncoder\": TransformerEncoder,\n",
        "                    \"PositionalEmbedding\": PositionalEmbedding})\n",
        "print(f\"Test acc: {model.evaluate(int_test_ds)[1]:.3f}\")"
      ]
    },
    {
      "cell_type": "markdown",
      "metadata": {
        "id": "HXjed82zlv9n"
      },
      "source": [
        "### When to use sequence models over bag-of-words models?"
      ]
    }
  ],
  "metadata": {
    "colab": {
      "provenance": [],
      "include_colab_link": true
    },
    "kernelspec": {
      "display_name": "Python 3",
      "language": "python",
      "name": "python3"
    },
    "language_info": {
      "codemirror_mode": {
        "name": "ipython",
        "version": 3
      },
      "file_extension": ".py",
      "mimetype": "text/x-python",
      "name": "python",
      "nbconvert_exporter": "python",
      "pygments_lexer": "ipython3",
      "version": "3.7.0"
    },
    "accelerator": "GPU",
    "gpuClass": "standard"
  },
  "nbformat": 4,
  "nbformat_minor": 0
}
